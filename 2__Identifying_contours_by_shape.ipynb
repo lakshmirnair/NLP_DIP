{
  "nbformat": 4,
  "nbformat_minor": 0,
  "metadata": {
    "kernelspec": {
      "display_name": "Python 2",
      "language": "python",
      "name": "python2"
    },
    "language_info": {
      "codemirror_mode": {
        "name": "ipython",
        "version": 2
      },
      "file_extension": ".py",
      "mimetype": "text/x-python",
      "name": "python",
      "nbconvert_exporter": "python",
      "pygments_lexer": "ipython2",
      "version": "2.7.11"
    },
    "colab": {
      "name": " 2_ Identifying contours by shape.ipynb",
      "provenance": [],
      "include_colab_link": true
    }
  },
  "cells": [
    {
      "cell_type": "markdown",
      "metadata": {
        "id": "view-in-github",
        "colab_type": "text"
      },
      "source": [
        "<a href=\"https://colab.research.google.com/github/lakshmirnair/NLP_DIP/blob/master/2__Identifying_contours_by_shape.ipynb\" target=\"_parent\"><img src=\"https://colab.research.google.com/assets/colab-badge.svg\" alt=\"Open In Colab\"/></a>"
      ]
    },
    {
      "cell_type": "markdown",
      "metadata": {
        "id": "2VNKcIfPlYy1"
      },
      "source": [
        "## Mini Project 2 - Identifiy Contours by Shape"
      ]
    },
    {
      "cell_type": "code",
      "metadata": {
        "id": "lMfn-eYjlYy3"
      },
      "source": [
        "import numpy as np\n",
        "import cv2\n",
        "\n",
        "\n",
        "image = cv2.imread('images/someshapes.jpg')\n",
        "gray = cv2.cvtColor(image, cv2.COLOR_BGR2GRAY)\n",
        "\n",
        "cv2.imshow('Identifying Shapes',image)\n",
        "cv2.waitKey(0)\n",
        "\n",
        "ret, thresh = cv2.threshold(gray, 127, 255, 1)\n",
        "\n",
        "contours, hierarchy = cv2.findContours(thresh.copy(), cv2.RETR_LIST, cv2.CHAIN_APPROX_NONE)\n",
        "\n",
        "for cnt in contours:\n",
        "    \n",
        "    \n",
        "    approx = cv2.approxPolyDP(cnt, 0.01*cv2.arcLength(cnt,True),True)\n",
        "    \n",
        "    if len(approx) == 3:\n",
        "        shape_name = \"Triangle\"\n",
        "        cv2.drawContours(image,[cnt],0,(0,255,0),-1)\n",
        "        \n",
        "        # Find contour center to place text at the center\n",
        "        M = cv2.moments(cnt)\n",
        "        cx = int(M['m10'] / M['m00'])\n",
        "        cy = int(M['m01'] / M['m00'])\n",
        "        cv2.putText(image, shape_name, (cx-50, cy), cv2.FONT_HERSHEY_SIMPLEX, 1, (0, 0, 0), 1)\n",
        "    \n",
        "    elif len(approx) == 4:\n",
        "        x,y,w,h = cv2.boundingRect(cnt)\n",
        "        M = cv2.moments(cnt)\n",
        "        cx = int(M['m10'] / M['m00'])\n",
        "        cy = int(M['m01'] / M['m00'])\n",
        "        \n",
        "        # Check to see if 4-side polygon is square or rectangle\n",
        "        # cv2.boundingRect returns the top left and then width and \n",
        "        if abs(w-h) <= 3:\n",
        "            shape_name = \"Square\"\n",
        "            \n",
        "          \n",
        "            cv2.drawContours(image, [cnt], 0, (0, 125 ,255), -1)\n",
        "            cv2.putText(image, shape_name, (cx-50, cy), cv2.FONT_HERSHEY_SIMPLEX, 1, (0, 0, 0), 1)\n",
        "        else:\n",
        "            shape_name = \"Rectangle\"\n",
        "            \n",
        "            \n",
        "            cv2.drawContours(image, [cnt], 0, (0, 0, 255), -1)\n",
        "            M = cv2.moments(cnt)\n",
        "            cx = int(M['m10'] / M['m00'])\n",
        "            cy = int(M['m01'] / M['m00'])\n",
        "            cv2.putText(image, shape_name, (cx-50, cy), cv2.FONT_HERSHEY_SIMPLEX, 1, (0, 0, 0), 1)\n",
        "            \n",
        "    elif len(approx) == 10:\n",
        "        shape_name = \"Star\"\n",
        "        cv2.drawContours(image, [cnt], 0, (255, 255, 0), -1)\n",
        "        M = cv2.moments(cnt)\n",
        "        cx = int(M['m10'] / M['m00'])\n",
        "        cy = int(M['m01'] / M['m00'])\n",
        "        cv2.putText(image, shape_name, (cx-50, cy), cv2.FONT_HERSHEY_SIMPLEX, 1, (0, 0, 0), 1)\n",
        "        \n",
        "        \n",
        "        \n",
        "    elif len(approx) >= 15:\n",
        "        shape_name = \"Circle\"\n",
        "        cv2.drawContours(image, [cnt], 0, (0, 255, 255), -1)\n",
        "        M = cv2.moments(cnt)\n",
        "        cx = int(M['m10'] / M['m00'])\n",
        "        cy = int(M['m01'] / M['m00'])\n",
        "        cv2.putText(image, shape_name, (cx-50, cy), cv2.FONT_HERSHEY_SIMPLEX, 1, (0, 0, 0), 1)\n",
        "\n",
        "    cv2.imshow('Identifying Shapes',image)\n",
        "    cv2.waitKey(0)\n",
        "    \n",
        "cv2.destroyAllWindows()"
      ],
      "execution_count": null,
      "outputs": []
    }
  ]
}