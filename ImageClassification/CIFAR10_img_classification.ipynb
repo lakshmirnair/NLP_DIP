{
 "cells": [
  {
   "cell_type": "code",
   "execution_count": 2,
   "id": "25313944",
   "metadata": {},
   "outputs": [],
   "source": [
    "import numpy\n",
    "from tensorflow import keras\n",
    "from keras.constraints import maxnorm\n",
    "from keras.utils import np_utils"
   ]
  },
  {
   "cell_type": "code",
   "execution_count": 3,
   "id": "68c90153",
   "metadata": {},
   "outputs": [],
   "source": [
    "from keras.datasets import cifar10\n",
    "(X_train, y_train), (X_test, y_test) = cifar10.load_data()"
   ]
  },
  {
   "cell_type": "code",
   "execution_count": 9,
   "id": "b2d19db1",
   "metadata": {},
   "outputs": [
    {
     "name": "stdout",
     "output_type": "stream",
     "text": [
      "(50000, 32, 32, 3)\n",
      "(10000, 32, 32, 3)\n"
     ]
    }
   ],
   "source": [
    "print(X_train.shape)\n",
    "print(X_test.shape)"
   ]
  },
  {
   "cell_type": "code",
   "execution_count": 5,
   "id": "0144ccec",
   "metadata": {},
   "outputs": [],
   "source": [
    " \n",
    "X_train = X_train.astype('float32')\n",
    "X_test = X_test.astype('float32')\n",
    "X_train = X_train / 255.0\n",
    "X_test = X_test / 255.0\n",
    "#one hot encoding\n",
    "y_train = np_utils.to_categorical(y_train)\n",
    "y_test = np_utils.to_categorical(y_test)\n",
    "class_num = y_test.shape[1]"
   ]
  },
  {
   "cell_type": "code",
   "execution_count": 8,
   "id": "afe27608",
   "metadata": {},
   "outputs": [
    {
     "name": "stdout",
     "output_type": "stream",
     "text": [
      "(50000, 32, 32, 3)\n",
      "(10000, 32, 32, 3)\n",
      "(50000, 10)\n",
      "(10000, 10)\n",
      "10\n"
     ]
    }
   ],
   "source": [
    "print(X_train.shape)\n",
    "print(X_test.shape)\n",
    "print(y_train.shape)\n",
    "print(y_test.shape)\n",
    "print(class_num)"
   ]
  },
  {
   "cell_type": "code",
   "execution_count": 14,
   "id": "bba24d3f",
   "metadata": {},
   "outputs": [],
   "source": [
    "#model 1\n",
    "model = keras.Sequential()\n",
    "model.add(keras.layers.Conv2D(32, (3, 3), input_shape=X_train.shape[1:], padding='same'))\n",
    "#model.add(keras.layers.Conv2D(32, 3, input_shape=(32, 32, 3), activation='relu', padding='same'))\n",
    "model.add(keras.layers.Activation('relu'))\n",
    "model.add(keras.layers.Dropout(0.2))\n",
    "model.add(keras.layers.BatchNormalization())\n",
    "\n",
    "model.add(keras.layers.Conv2D(64, 3, activation='relu', padding='same'))\n",
    "model.add(keras.layers.MaxPooling2D(2))\n",
    "model.add(keras.layers.Dropout(0.2))\n",
    "model.add(keras.layers.BatchNormalization())\n",
    "\n",
    "model.add(keras.layers.Conv2D(64, 3, activation='relu', padding='same'))\n",
    "model.add(keras.layers.MaxPooling2D(2))\n",
    "model.add(keras.layers.Dropout(0.2))\n",
    "model.add(keras.layers.BatchNormalization())\n",
    "    \n",
    "model.add(keras.layers.Conv2D(128, 3, activation='relu', padding='same'))\n",
    "model.add(keras.layers.Dropout(0.2))\n",
    "model.add(keras.layers.BatchNormalization())\n",
    "\n",
    "model.add(keras.layers.Flatten())\n",
    "model.add(keras.layers.Dropout(0.2))\n",
    "\n",
    "model.add(keras.layers.Dense(32, activation='relu'))\n",
    "model.add(keras.layers.Dropout(0.3))\n",
    "model.add(keras.layers.BatchNormalization())\n",
    "\n",
    "model.add(keras.layers.Dense(class_num, activation='softmax'))\n",
    "\n",
    "model.compile(loss='categorical_crossentropy', optimizer='adam', metrics=['accuracy'])\n"
   ]
  },
  {
   "cell_type": "code",
   "execution_count": 11,
   "id": "fdaab3f2",
   "metadata": {},
   "outputs": [
    {
     "name": "stdout",
     "output_type": "stream",
     "text": [
      "Model: \"sequential\"\n",
      "_________________________________________________________________\n",
      " Layer (type)                Output Shape              Param #   \n",
      "=================================================================\n",
      " conv2d (Conv2D)             (None, 32, 32, 32)        896       \n",
      "                                                                 \n",
      " activation (Activation)     (None, 32, 32, 32)        0         \n",
      "                                                                 \n",
      " dropout (Dropout)           (None, 32, 32, 32)        0         \n",
      "                                                                 \n",
      " batch_normalization (BatchN  (None, 32, 32, 32)       128       \n",
      " ormalization)                                                   \n",
      "                                                                 \n",
      " conv2d_1 (Conv2D)           (None, 32, 32, 64)        18496     \n",
      "                                                                 \n",
      " max_pooling2d (MaxPooling2D  (None, 16, 16, 64)       0         \n",
      " )                                                               \n",
      "                                                                 \n",
      " dropout_1 (Dropout)         (None, 16, 16, 64)        0         \n",
      "                                                                 \n",
      " batch_normalization_1 (Batc  (None, 16, 16, 64)       256       \n",
      " hNormalization)                                                 \n",
      "                                                                 \n",
      " conv2d_2 (Conv2D)           (None, 16, 16, 64)        36928     \n",
      "                                                                 \n",
      " max_pooling2d_1 (MaxPooling  (None, 8, 8, 64)         0         \n",
      " 2D)                                                             \n",
      "                                                                 \n",
      " dropout_2 (Dropout)         (None, 8, 8, 64)          0         \n",
      "                                                                 \n",
      " batch_normalization_2 (Batc  (None, 8, 8, 64)         256       \n",
      " hNormalization)                                                 \n",
      "                                                                 \n",
      " conv2d_3 (Conv2D)           (None, 8, 8, 128)         73856     \n",
      "                                                                 \n",
      " dropout_3 (Dropout)         (None, 8, 8, 128)         0         \n",
      "                                                                 \n",
      " batch_normalization_3 (Batc  (None, 8, 8, 128)        512       \n",
      " hNormalization)                                                 \n",
      "                                                                 \n",
      " flatten (Flatten)           (None, 8192)              0         \n",
      "                                                                 \n",
      " dropout_4 (Dropout)         (None, 8192)              0         \n",
      "                                                                 \n",
      " dense (Dense)               (None, 32)                262176    \n",
      "                                                                 \n",
      " dropout_5 (Dropout)         (None, 32)                0         \n",
      "                                                                 \n",
      " batch_normalization_4 (Batc  (None, 32)               128       \n",
      " hNormalization)                                                 \n",
      "                                                                 \n",
      " dense_1 (Dense)             (None, 10)                330       \n",
      "                                                                 \n",
      "=================================================================\n",
      "Total params: 393,962\n",
      "Trainable params: 393,322\n",
      "Non-trainable params: 640\n",
      "_________________________________________________________________\n",
      "None\n"
     ]
    }
   ],
   "source": [
    "print(model.summary())"
   ]
  },
  {
   "cell_type": "code",
   "execution_count": 15,
   "id": "6d5dda79",
   "metadata": {},
   "outputs": [
    {
     "name": "stdout",
     "output_type": "stream",
     "text": [
      "Epoch 1/25\n",
      "782/782 [==============================] - 115s 145ms/step - loss: 1.5556 - accuracy: 0.4459\n",
      "Epoch 2/25\n",
      "782/782 [==============================] - 119s 153ms/step - loss: 1.1136 - accuracy: 0.6101\n",
      "Epoch 3/25\n",
      "782/782 [==============================] - 123s 158ms/step - loss: 0.9593 - accuracy: 0.6643\n",
      "Epoch 4/25\n",
      "782/782 [==============================] - 119s 153ms/step - loss: 0.8714 - accuracy: 0.6994\n",
      "Epoch 5/25\n",
      "782/782 [==============================] - 114s 146ms/step - loss: 0.8089 - accuracy: 0.7191\n",
      "Epoch 6/25\n",
      "782/782 [==============================] - 114s 146ms/step - loss: 0.7577 - accuracy: 0.7365\n",
      "Epoch 7/25\n",
      "782/782 [==============================] - 115s 147ms/step - loss: 0.7168 - accuracy: 0.7528\n",
      "Epoch 8/25\n",
      "782/782 [==============================] - 113s 144ms/step - loss: 0.6825 - accuracy: 0.7625\n",
      "Epoch 9/25\n",
      "782/782 [==============================] - 113s 145ms/step - loss: 0.6618 - accuracy: 0.7705\n",
      "Epoch 10/25\n",
      "782/782 [==============================] - 114s 145ms/step - loss: 0.6359 - accuracy: 0.7781\n",
      "Epoch 11/25\n",
      "782/782 [==============================] - 113s 145ms/step - loss: 0.6129 - accuracy: 0.7886\n",
      "Epoch 12/25\n",
      "782/782 [==============================] - 114s 146ms/step - loss: 0.5925 - accuracy: 0.7946\n",
      "Epoch 13/25\n",
      "782/782 [==============================] - 113s 145ms/step - loss: 0.5831 - accuracy: 0.7985\n",
      "Epoch 14/25\n",
      "782/782 [==============================] - 113s 145ms/step - loss: 0.5708 - accuracy: 0.8017\n",
      "Epoch 15/25\n",
      "782/782 [==============================] - 115s 147ms/step - loss: 0.5592 - accuracy: 0.8062\n",
      "Epoch 16/25\n",
      "782/782 [==============================] - 113s 144ms/step - loss: 0.5410 - accuracy: 0.8127\n",
      "Epoch 17/25\n",
      "782/782 [==============================] - 113s 145ms/step - loss: 0.5331 - accuracy: 0.8140\n",
      "Epoch 18/25\n",
      "782/782 [==============================] - 114s 145ms/step - loss: 0.5192 - accuracy: 0.8206\n",
      "Epoch 19/25\n",
      "782/782 [==============================] - 114s 146ms/step - loss: 0.5134 - accuracy: 0.8225\n",
      "Epoch 20/25\n",
      "782/782 [==============================] - 113s 144ms/step - loss: 0.4960 - accuracy: 0.8256\n",
      "Epoch 21/25\n",
      "782/782 [==============================] - 113s 144ms/step - loss: 0.4988 - accuracy: 0.8258\n",
      "Epoch 22/25\n",
      "782/782 [==============================] - 112s 144ms/step - loss: 0.4813 - accuracy: 0.8293\n",
      "Epoch 23/25\n",
      "782/782 [==============================] - 115s 147ms/step - loss: 0.4805 - accuracy: 0.8314\n",
      "Epoch 24/25\n",
      "782/782 [==============================] - 113s 145ms/step - loss: 0.4720 - accuracy: 0.8336\n",
      "Epoch 25/25\n",
      "782/782 [==============================] - 114s 146ms/step - loss: 0.4671 - accuracy: 0.8354\n"
     ]
    }
   ],
   "source": [
    "seed=21\n",
    "numpy.random.seed(seed)\n",
    "history = model.fit(X_train, y_train, epochs=25, batch_size=64)"
   ]
  },
  {
   "cell_type": "code",
   "execution_count": 19,
   "id": "2859132b",
   "metadata": {},
   "outputs": [
    {
     "name": "stdout",
     "output_type": "stream",
     "text": [
      "Accuracy: 83.50%\n"
     ]
    }
   ],
   "source": [
    "scores = model.evaluate(X_test, y_test, verbose=0)\n",
    "print(\"Accuracy: %.2f%%\" % (scores[1]*100))"
   ]
  },
  {
   "cell_type": "code",
   "execution_count": 17,
   "id": "9d7f5abe",
   "metadata": {},
   "outputs": [
    {
     "data": {
      "image/png": "[encoded data removed]",
      "text/plain": [
       "<Figure size 640x480 with 1 Axes>"
      ]
     },
     "metadata": {},
     "output_type": "display_data"
    }
   ],
   "source": [
    "import pandas as pd\n",
    "import matplotlib.pyplot as plt\n",
    "\n",
    "pd.DataFrame(history.history).plot()\n",
    "plt.show()"
   ]
  },
  {
   "cell_type": "code",
   "execution_count": 18,
   "id": "053873b1",
   "metadata": {},
   "outputs": [
    {
     "name": "stdout",
     "output_type": "stream",
     "text": [
      "Epoch 1/25\n",
      "782/782 [==============================] - 141s 180ms/step - loss: 0.4577 - accuracy: 0.8385 - val_loss: 0.5127 - val_accuracy: 0.8284\n",
      "Epoch 2/25\n",
      "782/782 [==============================] - 134s 172ms/step - loss: 0.4501 - accuracy: 0.8420 - val_loss: 0.5482 - val_accuracy: 0.8180\n",
      "Epoch 3/25\n",
      "782/782 [==============================] - 129s 165ms/step - loss: 0.4537 - accuracy: 0.8413 - val_loss: 0.5250 - val_accuracy: 0.8272\n",
      "Epoch 4/25\n",
      "782/782 [==============================] - 125s 160ms/step - loss: 0.4438 - accuracy: 0.8442 - val_loss: 0.5097 - val_accuracy: 0.8296\n",
      "Epoch 5/25\n",
      "782/782 [==============================] - 125s 159ms/step - loss: 0.4360 - accuracy: 0.8464 - val_loss: 0.5383 - val_accuracy: 0.8213\n",
      "Epoch 6/25\n",
      "782/782 [==============================] - 124s 158ms/step - loss: 0.4406 - accuracy: 0.8458 - val_loss: 0.5201 - val_accuracy: 0.8310\n",
      "Epoch 7/25\n",
      "782/782 [==============================] - 124s 158ms/step - loss: 0.4238 - accuracy: 0.8507 - val_loss: 0.5077 - val_accuracy: 0.8313\n",
      "Epoch 8/25\n",
      "782/782 [==============================] - 124s 158ms/step - loss: 0.4208 - accuracy: 0.8497 - val_loss: 0.5245 - val_accuracy: 0.8277\n",
      "Epoch 9/25\n",
      "782/782 [==============================] - 123s 158ms/step - loss: 0.4198 - accuracy: 0.8507 - val_loss: 0.5186 - val_accuracy: 0.8282\n",
      "Epoch 10/25\n",
      "782/782 [==============================] - 134s 172ms/step - loss: 0.4140 - accuracy: 0.8533 - val_loss: 0.5087 - val_accuracy: 0.8300\n",
      "Epoch 11/25\n",
      "782/782 [==============================] - 149s 191ms/step - loss: 0.4121 - accuracy: 0.8546 - val_loss: 0.5322 - val_accuracy: 0.8274\n",
      "Epoch 12/25\n",
      "782/782 [==============================] - 150s 192ms/step - loss: 0.4066 - accuracy: 0.8579 - val_loss: 0.4900 - val_accuracy: 0.8383\n",
      "Epoch 13/25\n",
      "782/782 [==============================] - 149s 191ms/step - loss: 0.4051 - accuracy: 0.8568 - val_loss: 0.5001 - val_accuracy: 0.8386\n",
      "Epoch 14/25\n",
      "782/782 [==============================] - 149s 191ms/step - loss: 0.4012 - accuracy: 0.8573 - val_loss: 0.5245 - val_accuracy: 0.8305\n",
      "Epoch 15/25\n",
      "782/782 [==============================] - 149s 191ms/step - loss: 0.3973 - accuracy: 0.8603 - val_loss: 0.4975 - val_accuracy: 0.8354\n",
      "Epoch 16/25\n",
      "782/782 [==============================] - 149s 191ms/step - loss: 0.3943 - accuracy: 0.8618 - val_loss: 0.5329 - val_accuracy: 0.8263\n",
      "Epoch 17/25\n",
      "782/782 [==============================] - 140s 179ms/step - loss: 0.3949 - accuracy: 0.8623 - val_loss: 0.5085 - val_accuracy: 0.8324\n",
      "Epoch 18/25\n",
      "782/782 [==============================] - 123s 157ms/step - loss: 0.3850 - accuracy: 0.8659 - val_loss: 0.4965 - val_accuracy: 0.8333\n",
      "Epoch 19/25\n",
      "782/782 [==============================] - 125s 159ms/step - loss: 0.3882 - accuracy: 0.8616 - val_loss: 0.4994 - val_accuracy: 0.8359\n",
      "Epoch 20/25\n",
      "782/782 [==============================] - 125s 159ms/step - loss: 0.3827 - accuracy: 0.8632 - val_loss: 0.5077 - val_accuracy: 0.8347\n",
      "Epoch 21/25\n",
      "782/782 [==============================] - 124s 159ms/step - loss: 0.3783 - accuracy: 0.8653 - val_loss: 0.4870 - val_accuracy: 0.8414\n",
      "Epoch 22/25\n",
      "782/782 [==============================] - 125s 159ms/step - loss: 0.3809 - accuracy: 0.8651 - val_loss: 0.5152 - val_accuracy: 0.8355\n",
      "Epoch 23/25\n",
      "782/782 [==============================] - 124s 158ms/step - loss: 0.3741 - accuracy: 0.8664 - val_loss: 0.5113 - val_accuracy: 0.8388\n",
      "Epoch 24/25\n",
      "782/782 [==============================] - 123s 158ms/step - loss: 0.3777 - accuracy: 0.8676 - val_loss: 0.5663 - val_accuracy: 0.8198\n",
      "Epoch 25/25\n",
      "782/782 [==============================] - 124s 159ms/step - loss: 0.3760 - accuracy: 0.8687 - val_loss: 0.5380 - val_accuracy: 0.8350\n"
     ]
    }
   ],
   "source": [
    "numpy.random.seed(seed)\n",
    "history = model.fit(X_train, y_train, validation_data=(X_test, y_test), epochs=25, batch_size=64)"
   ]
  },
  {
   "cell_type": "code",
   "execution_count": 20,
   "id": "4e856f42",
   "metadata": {},
   "outputs": [
    {
     "data": {
      "image/png": "[encoded data removed]",
      "text/plain": [
       "<Figure size 640x480 with 1 Axes>"
      ]
     },
     "metadata": {},
     "output_type": "display_data"
    }
   ],
   "source": [
    "import pandas as pd\n",
    "import matplotlib.pyplot as plt\n",
    "\n",
    "pd.DataFrame(history.history).plot()\n",
    "plt.show()"
   ]
  },
  {
   "cell_type": "code",
   "execution_count": 24,
   "id": "5a33027f",
   "metadata": {},
   "outputs": [],
   "source": [
    "#model 2\n",
    "model = keras.Sequential()\n",
    "model.add(keras.layers.Conv2D(32, (3, 3), input_shape=X_train.shape[1:], padding='same'))\n",
    "model.add(keras.layers.Activation('relu'))\n",
    "#model.add(keras.layers.Dropout(0.2))\n",
    "model.add(keras.layers.BatchNormalization())\n",
    "\n",
    "model.add(keras.layers.Conv2D(64, 3, activation='relu', padding='same'))\n",
    "model.add(keras.layers.MaxPooling2D(2))\n",
    "#model.add(keras.layers.Dropout(0.2))\n",
    "model.add(keras.layers.BatchNormalization())\n",
    "\n",
    "model.add(keras.layers.Conv2D(64, 3, activation='relu', padding='same'))\n",
    "model.add(keras.layers.MaxPooling2D(2))\n",
    "#model.add(keras.layers.Dropout(0.2))\n",
    "model.add(keras.layers.BatchNormalization())\n",
    "    \n",
    "model.add(keras.layers.Conv2D(128, 3, activation='relu', padding='same'))\n",
    "#model.add(keras.layers.Dropout(0.2))\n",
    "model.add(keras.layers.BatchNormalization())\n",
    "\n",
    "model.add(keras.layers.Flatten())\n",
    "model.add(keras.layers.Dropout(0.2))\n",
    "\n",
    "model.add(keras.layers.Dense(1024, activation='relu'))\n",
    "model.add(keras.layers.Dropout(0.3))\n",
    "model.add(keras.layers.BatchNormalization())\n",
    "\n",
    "model.add(keras.layers.Dense(class_num, activation='softmax'))\n",
    "\n",
    "model.compile(loss='categorical_crossentropy', optimizer='adam', metrics=['accuracy'])"
   ]
  },
  {
   "cell_type": "code",
   "execution_count": 25,
   "id": "d286b80b",
   "metadata": {},
   "outputs": [
    {
     "name": "stdout",
     "output_type": "stream",
     "text": [
      "Model: \"sequential_3\"\n",
      "_________________________________________________________________\n",
      " Layer (type)                Output Shape              Param #   \n",
      "=================================================================\n",
      " conv2d_12 (Conv2D)          (None, 32, 32, 32)        896       \n",
      "                                                                 \n",
      " activation_3 (Activation)   (None, 32, 32, 32)        0         \n",
      "                                                                 \n",
      " batch_normalization_15 (Bat  (None, 32, 32, 32)       128       \n",
      " chNormalization)                                                \n",
      "                                                                 \n",
      " conv2d_13 (Conv2D)          (None, 32, 32, 64)        18496     \n",
      "                                                                 \n",
      " max_pooling2d_6 (MaxPooling  (None, 16, 16, 64)       0         \n",
      " 2D)                                                             \n",
      "                                                                 \n",
      " batch_normalization_16 (Bat  (None, 16, 16, 64)       256       \n",
      " chNormalization)                                                \n",
      "                                                                 \n",
      " conv2d_14 (Conv2D)          (None, 16, 16, 64)        36928     \n",
      "                                                                 \n",
      " max_pooling2d_7 (MaxPooling  (None, 8, 8, 64)         0         \n",
      " 2D)                                                             \n",
      "                                                                 \n",
      " batch_normalization_17 (Bat  (None, 8, 8, 64)         256       \n",
      " chNormalization)                                                \n",
      "                                                                 \n",
      " conv2d_15 (Conv2D)          (None, 8, 8, 128)         73856     \n",
      "                                                                 \n",
      " batch_normalization_18 (Bat  (None, 8, 8, 128)        512       \n",
      " chNormalization)                                                \n",
      "                                                                 \n",
      " flatten_3 (Flatten)         (None, 8192)              0         \n",
      "                                                                 \n",
      " dropout_14 (Dropout)        (None, 8192)              0         \n",
      "                                                                 \n",
      " dense_6 (Dense)             (None, 1024)              8389632   \n",
      "                                                                 \n",
      " dropout_15 (Dropout)        (None, 1024)              0         \n",
      "                                                                 \n",
      " batch_normalization_19 (Bat  (None, 1024)             4096      \n",
      " chNormalization)                                                \n",
      "                                                                 \n",
      " dense_7 (Dense)             (None, 10)                10250     \n",
      "                                                                 \n",
      "=================================================================\n",
      "Total params: 8,535,306\n",
      "Trainable params: 8,532,682\n",
      "Non-trainable params: 2,624\n",
      "_________________________________________________________________\n",
      "None\n"
     ]
    }
   ],
   "source": [
    "print(model.summary())"
   ]
  },
  {
   "cell_type": "code",
   "execution_count": 26,
   "id": "17450a47",
   "metadata": {},
   "outputs": [
    {
     "name": "stdout",
     "output_type": "stream",
     "text": [
      "Epoch 1/25\n",
      "782/782 [==============================] - 148s 186ms/step - loss: 1.2248 - accuracy: 0.5894\n",
      "Epoch 2/25\n",
      "782/782 [==============================] - 146s 186ms/step - loss: 0.7435 - accuracy: 0.7406\n",
      "Epoch 3/25\n",
      "782/782 [==============================] - 145s 186ms/step - loss: 0.5769 - accuracy: 0.8002\n",
      "Epoch 4/25\n",
      "782/782 [==============================] - 157s 201ms/step - loss: 0.4461 - accuracy: 0.8448\n",
      "Epoch 5/25\n",
      "782/782 [==============================] - 166s 212ms/step - loss: 0.3346 - accuracy: 0.8823\n",
      "Epoch 6/25\n",
      "782/782 [==============================] - 157s 200ms/step - loss: 0.2621 - accuracy: 0.9086\n",
      "Epoch 7/25\n",
      "782/782 [==============================] - 151s 193ms/step - loss: 0.2083 - accuracy: 0.9269\n",
      "Epoch 8/25\n",
      "782/782 [==============================] - 151s 193ms/step - loss: 0.1710 - accuracy: 0.9400\n",
      "Epoch 9/25\n",
      "782/782 [==============================] - 151s 194ms/step - loss: 0.1684 - accuracy: 0.9397\n",
      "Epoch 10/25\n",
      "782/782 [==============================] - 152s 194ms/step - loss: 0.1200 - accuracy: 0.9577\n",
      "Epoch 11/25\n",
      "782/782 [==============================] - 157s 201ms/step - loss: 0.1150 - accuracy: 0.9595\n",
      "Epoch 12/25\n",
      "782/782 [==============================] - 153s 196ms/step - loss: 0.1222 - accuracy: 0.9575\n",
      "Epoch 13/25\n",
      "782/782 [==============================] - 156s 199ms/step - loss: 0.0984 - accuracy: 0.9649\n",
      "Epoch 14/25\n",
      "782/782 [==============================] - 158s 202ms/step - loss: 0.1039 - accuracy: 0.9637\n",
      "Epoch 15/25\n",
      "782/782 [==============================] - 151s 192ms/step - loss: 0.0984 - accuracy: 0.9649\n",
      "Epoch 16/25\n",
      "782/782 [==============================] - 152s 194ms/step - loss: 0.0804 - accuracy: 0.9718\n",
      "Epoch 17/25\n",
      "782/782 [==============================] - 155s 198ms/step - loss: 0.0992 - accuracy: 0.9658\n",
      "Epoch 18/25\n",
      "782/782 [==============================] - 150s 192ms/step - loss: 0.0787 - accuracy: 0.9738\n",
      "Epoch 19/25\n",
      "782/782 [==============================] - 152s 195ms/step - loss: 0.0711 - accuracy: 0.9754\n",
      "Epoch 20/25\n",
      "782/782 [==============================] - 151s 193ms/step - loss: 0.0676 - accuracy: 0.9766\n",
      "Epoch 21/25\n",
      "782/782 [==============================] - 149s 191ms/step - loss: 0.0654 - accuracy: 0.9779\n",
      "Epoch 22/25\n",
      "782/782 [==============================] - 149s 191ms/step - loss: 0.0696 - accuracy: 0.9762\n",
      "Epoch 23/25\n",
      "782/782 [==============================] - 162s 207ms/step - loss: 0.0703 - accuracy: 0.9752\n",
      "Epoch 24/25\n",
      "782/782 [==============================] - 154s 198ms/step - loss: 0.0585 - accuracy: 0.9803\n",
      "Epoch 25/25\n",
      "782/782 [==============================] - 148s 190ms/step - loss: 0.0492 - accuracy: 0.9837\n"
     ]
    }
   ],
   "source": [
    "seed=21\n",
    "numpy.random.seed(seed)\n",
    "h1 = model.fit(X_train, y_train, epochs=25, batch_size=64)"
   ]
  },
  {
   "cell_type": "code",
   "execution_count": 27,
   "id": "943e56e3",
   "metadata": {},
   "outputs": [],
   "source": [
    " model.save('model_noDropout64b25e1024dense'  + '.h5')"
   ]
  },
  {
   "cell_type": "code",
   "execution_count": 28,
   "id": "b75ab2d9",
   "metadata": {},
   "outputs": [
    {
     "name": "stdout",
     "output_type": "stream",
     "text": [
      "Accuracy: 79.71%\n"
     ]
    }
   ],
   "source": [
    "scores = model.evaluate(X_test, y_test, verbose=0)\n",
    "print(\"Accuracy: %.2f%%\" % (scores[1]*100))"
   ]
  },
  {
   "cell_type": "code",
   "execution_count": 29,
   "id": "89d0c9f3",
   "metadata": {},
   "outputs": [],
   "source": [
    "#model 3\n",
    "model = keras.Sequential()\n",
    "model.add(keras.layers.Conv2D(32, (3, 3), input_shape=X_train.shape[1:], padding='same'))\n",
    "model.add(keras.layers.Activation('relu'))\n",
    "#model.add(keras.layers.Dropout(0.2))\n",
    "model.add(keras.layers.BatchNormalization())\n",
    "\n",
    "model.add(keras.layers.Conv2D(64, 3, activation='relu', padding='same'))\n",
    "model.add(keras.layers.MaxPooling2D(2))\n",
    "#model.add(keras.layers.Dropout(0.2))\n",
    "model.add(keras.layers.BatchNormalization())\n",
    "\n",
    "model.add(keras.layers.Conv2D(64, 3, activation='relu', padding='same'))\n",
    "model.add(keras.layers.MaxPooling2D(2))\n",
    "#model.add(keras.layers.Dropout(0.2))\n",
    "model.add(keras.layers.BatchNormalization())\n",
    "\n",
    "    \n",
    "model.add(keras.layers.Flatten())\n",
    "model.add(keras.layers.Dropout(0.2))\n",
    "\n",
    "model.add(keras.layers.Dense(512, activation='relu'))\n",
    "model.add(keras.layers.BatchNormalization())\n",
    "model.add(keras.layers.Dropout(0.3))\n",
    "\n",
    "\n",
    "model.add(keras.layers.Dense(class_num, activation='softmax'))\n",
    "\n",
    "model.compile(loss='categorical_crossentropy', optimizer='adam', metrics=['accuracy'])"
   ]
  },
  {
   "cell_type": "code",
   "execution_count": 30,
   "id": "47314d43",
   "metadata": {},
   "outputs": [
    {
     "name": "stdout",
     "output_type": "stream",
     "text": [
      "Epoch 1/25\n",
      "782/782 [==============================] - 100s 125ms/step - loss: 1.2714 - accuracy: 0.5741\n",
      "Epoch 2/25\n",
      "782/782 [==============================] - 101s 130ms/step - loss: 0.8096 - accuracy: 0.7161\n",
      "Epoch 3/25\n",
      "782/782 [==============================] - 97s 124ms/step - loss: 0.6451 - accuracy: 0.7758\n",
      "Epoch 4/25\n",
      "782/782 [==============================] - 101s 129ms/step - loss: 0.5421 - accuracy: 0.8119\n",
      "Epoch 5/25\n",
      "782/782 [==============================] - 96s 122ms/step - loss: 0.4461 - accuracy: 0.8446\n",
      "Epoch 6/25\n",
      "782/782 [==============================] - 96s 123ms/step - loss: 0.3772 - accuracy: 0.8665\n",
      "Epoch 7/25\n",
      "782/782 [==============================] - 96s 123ms/step - loss: 0.3099 - accuracy: 0.8926\n",
      "Epoch 8/25\n",
      "782/782 [==============================] - 96s 123ms/step - loss: 0.2576 - accuracy: 0.9092\n",
      "Epoch 9/25\n",
      "782/782 [==============================] - 98s 126ms/step - loss: 0.2200 - accuracy: 0.9233\n",
      "Epoch 10/25\n",
      "782/782 [==============================] - 95s 121ms/step - loss: 0.1967 - accuracy: 0.9310\n",
      "Epoch 11/25\n",
      "782/782 [==============================] - 94s 120ms/step - loss: 0.1794 - accuracy: 0.9368\n",
      "Epoch 12/25\n",
      "782/782 [==============================] - 94s 120ms/step - loss: 0.1632 - accuracy: 0.9435\n",
      "Epoch 13/25\n",
      "782/782 [==============================] - 94s 120ms/step - loss: 0.1482 - accuracy: 0.9486\n",
      "Epoch 14/25\n",
      "782/782 [==============================] - 94s 120ms/step - loss: 0.1379 - accuracy: 0.9514\n",
      "Epoch 15/25\n",
      "782/782 [==============================] - 94s 120ms/step - loss: 0.1320 - accuracy: 0.9532\n",
      "Epoch 16/25\n",
      "782/782 [==============================] - 96s 123ms/step - loss: 0.1236 - accuracy: 0.9562\n",
      "Epoch 17/25\n",
      "782/782 [==============================] - 97s 125ms/step - loss: 0.1128 - accuracy: 0.9604\n",
      "Epoch 18/25\n",
      "782/782 [==============================] - 98s 126ms/step - loss: 0.1103 - accuracy: 0.9616\n",
      "Epoch 19/25\n",
      "782/782 [==============================] - 99s 127ms/step - loss: 0.1027 - accuracy: 0.9630\n",
      "Epoch 20/25\n",
      "782/782 [==============================] - 99s 126ms/step - loss: 0.1057 - accuracy: 0.9625\n",
      "Epoch 21/25\n",
      "782/782 [==============================] - 98s 125ms/step - loss: 0.0935 - accuracy: 0.9666\n",
      "Epoch 22/25\n",
      "782/782 [==============================] - 98s 126ms/step - loss: 0.0922 - accuracy: 0.9674\n",
      "Epoch 23/25\n",
      "782/782 [==============================] - 96s 123ms/step - loss: 0.0904 - accuracy: 0.9685\n",
      "Epoch 24/25\n",
      "782/782 [==============================] - 96s 123ms/step - loss: 0.0876 - accuracy: 0.9694\n",
      "Epoch 25/25\n",
      "782/782 [==============================] - 96s 123ms/step - loss: 0.0869 - accuracy: 0.9692\n"
     ]
    }
   ],
   "source": [
    "#model 3\n",
    "seed=21\n",
    "numpy.random.seed(seed)\n",
    "h1 = model.fit(X_train, y_train, epochs=25, batch_size=64)"
   ]
  },
  {
   "cell_type": "code",
   "execution_count": 31,
   "id": "403080ff",
   "metadata": {},
   "outputs": [],
   "source": [
    "model.save('model_3CNNnoDropout64b25e512dense'  + '.h5')"
   ]
  },
  {
   "cell_type": "code",
   "execution_count": 32,
   "id": "a8cc7dfb",
   "metadata": {},
   "outputs": [
    {
     "name": "stdout",
     "output_type": "stream",
     "text": [
      "Accuracy: 80.18%\n"
     ]
    }
   ],
   "source": [
    "scores = model.evaluate(X_test, y_test, verbose=0)\n",
    "print(\"Accuracy: %.2f%%\" % (scores[1]*100))"
   ]
  },
  {
   "cell_type": "code",
   "execution_count": 6,
   "id": "4c85d430",
   "metadata": {},
   "outputs": [],
   "source": [
    "#model 4\n",
    "model = keras.Sequential()\n",
    "model.add(keras.layers.Conv2D(32, (3, 3), input_shape=X_train.shape[1:], padding='same'))\n",
    "model.add(keras.layers.Activation('relu'))\n",
    "model.add(keras.layers.BatchNormalization())\n",
    "model.add(keras.layers.Dropout(0.2))\n",
    "\n",
    "model.add(keras.layers.Conv2D(64, 3, activation='relu', padding='same'))\n",
    "model.add(keras.layers.MaxPooling2D(2))\n",
    "model.add(keras.layers.BatchNormalization())\n",
    "model.add(keras.layers.Dropout(0.2))\n",
    "\n",
    "model.add(keras.layers.Conv2D(64, 3, activation='relu', padding='same'))\n",
    "model.add(keras.layers.MaxPooling2D(2))\n",
    "model.add(keras.layers.BatchNormalization())\n",
    "model.add(keras.layers.Dropout(0.2))\n",
    "    \n",
    "model.add(keras.layers.Flatten())\n",
    "model.add(keras.layers.Dropout(0.2))\n",
    "\n",
    "model.add(keras.layers.Dense(512, activation='relu'))\n",
    "model.add(keras.layers.BatchNormalization())\n",
    "model.add(keras.layers.Dropout(0.3))\n",
    "\n",
    "\n",
    "model.add(keras.layers.Dense(class_num, activation='softmax'))\n",
    "\n",
    "model.compile(loss='categorical_crossentropy', optimizer='adam', metrics=['accuracy'])"
   ]
  },
  {
   "cell_type": "code",
   "execution_count": 7,
   "id": "0de6b8dd",
   "metadata": {},
   "outputs": [
    {
     "name": "stdout",
     "output_type": "stream",
     "text": [
      "Epoch 1/25\n",
      "782/782 [==============================] - 113s 142ms/step - loss: 1.4639 - accuracy: 0.5052\n",
      "Epoch 2/25\n",
      "782/782 [==============================] - 117s 150ms/step - loss: 0.9443 - accuracy: 0.6695\n",
      "Epoch 3/25\n",
      "782/782 [==============================] - 110s 140ms/step - loss: 0.7913 - accuracy: 0.7209\n",
      "Epoch 4/25\n",
      "782/782 [==============================] - 115s 147ms/step - loss: 0.6963 - accuracy: 0.7562\n",
      "Epoch 5/25\n",
      "782/782 [==============================] - 123s 157ms/step - loss: 0.6213 - accuracy: 0.7823\n",
      "Epoch 6/25\n",
      "782/782 [==============================] - 113s 145ms/step - loss: 0.5584 - accuracy: 0.8042\n",
      "Epoch 7/25\n",
      "782/782 [==============================] - 117s 150ms/step - loss: 0.5000 - accuracy: 0.8236\n",
      "Epoch 8/25\n",
      "782/782 [==============================] - 115s 148ms/step - loss: 0.4570 - accuracy: 0.8388\n",
      "Epoch 9/25\n",
      "782/782 [==============================] - 113s 145ms/step - loss: 0.4216 - accuracy: 0.8508\n",
      "Epoch 10/25\n",
      "782/782 [==============================] - 114s 145ms/step - loss: 0.3822 - accuracy: 0.8676\n",
      "Epoch 11/25\n",
      "782/782 [==============================] - 112s 143ms/step - loss: 0.3628 - accuracy: 0.8715\n",
      "Epoch 12/25\n",
      "782/782 [==============================] - 113s 145ms/step - loss: 0.3269 - accuracy: 0.8842\n",
      "Epoch 13/25\n",
      "782/782 [==============================] - 119s 153ms/step - loss: 0.3116 - accuracy: 0.8899\n",
      "Epoch 14/25\n",
      "782/782 [==============================] - 123s 158ms/step - loss: 0.2929 - accuracy: 0.8971\n",
      "Epoch 15/25\n",
      "782/782 [==============================] - 118s 151ms/step - loss: 0.2761 - accuracy: 0.9031\n",
      "Epoch 16/25\n",
      "782/782 [==============================] - 119s 152ms/step - loss: 0.2612 - accuracy: 0.9084\n",
      "Epoch 17/25\n",
      "782/782 [==============================] - 121s 154ms/step - loss: 0.2479 - accuracy: 0.9114\n",
      "Epoch 18/25\n",
      "782/782 [==============================] - 114s 146ms/step - loss: 0.2371 - accuracy: 0.9157\n",
      "Epoch 19/25\n",
      "782/782 [==============================] - 112s 143ms/step - loss: 0.2380 - accuracy: 0.9157\n",
      "Epoch 20/25\n",
      "782/782 [==============================] - 115s 148ms/step - loss: 0.2229 - accuracy: 0.9201\n",
      "Epoch 21/25\n",
      "782/782 [==============================] - 117s 149ms/step - loss: 0.2122 - accuracy: 0.9256\n",
      "Epoch 22/25\n",
      "782/782 [==============================] - 115s 148ms/step - loss: 0.2028 - accuracy: 0.9280\n",
      "Epoch 23/25\n",
      "782/782 [==============================] - 112s 143ms/step - loss: 0.2049 - accuracy: 0.9276\n",
      "Epoch 24/25\n",
      "782/782 [==============================] - 117s 150ms/step - loss: 0.1943 - accuracy: 0.9316\n",
      "Epoch 25/25\n",
      "782/782 [==============================] - 120s 153ms/step - loss: 0.1855 - accuracy: 0.9347\n"
     ]
    }
   ],
   "source": [
    "#model 4\n",
    "seed=21\n",
    "numpy.random.seed(seed)\n",
    "h1 = model.fit(X_train, y_train, epochs=25, batch_size=64)"
   ]
  },
  {
   "cell_type": "code",
   "execution_count": 8,
   "id": "c211ae0a",
   "metadata": {},
   "outputs": [],
   "source": [
    "model.save('model_3CNN64b25e512dense'  + '.h5')"
   ]
  },
  {
   "cell_type": "code",
   "execution_count": 9,
   "id": "469f7147",
   "metadata": {},
   "outputs": [
    {
     "name": "stdout",
     "output_type": "stream",
     "text": [
      "Accuracy: 80.22%\n"
     ]
    }
   ],
   "source": [
    "scores = model.evaluate(X_test, y_test, verbose=0)\n",
    "print(\"Accuracy: %.2f%%\" % (scores[1]*100))"
   ]
  },
  {
   "cell_type": "code",
   "execution_count": 10,
   "id": "38ea2171",
   "metadata": {},
   "outputs": [],
   "source": [
    "#model 5\n",
    "model = keras.Sequential()\n",
    "model.add(keras.layers.Conv2D(32, (3, 3), input_shape=X_train.shape[1:], padding='same'))\n",
    "model.add(keras.layers.Activation('relu'))\n",
    "model.add(keras.layers.BatchNormalization())\n",
    "model.add(keras.layers.Dropout(0.2))\n",
    "\n",
    "model.add(keras.layers.Conv2D(64, 3, activation='relu', padding='same'))\n",
    "model.add(keras.layers.MaxPooling2D(2))\n",
    "model.add(keras.layers.BatchNormalization())\n",
    "model.add(keras.layers.Dropout(0.2))\n",
    "\n",
    "model.add(keras.layers.Conv2D(64, 3, activation='relu', padding='same'))\n",
    "model.add(keras.layers.MaxPooling2D(2))\n",
    "model.add(keras.layers.BatchNormalization())\n",
    "model.add(keras.layers.Dropout(0.2))\n",
    "    \n",
    "model.add(keras.layers.Flatten())\n",
    "model.add(keras.layers.Dropout(0.2))\n",
    "\n",
    "model.add(keras.layers.Dense(256, activation='relu'))\n",
    "model.add(keras.layers.BatchNormalization())\n",
    "model.add(keras.layers.Dropout(0.3))\n",
    "\n",
    "\n",
    "model.add(keras.layers.Dense(class_num, activation='softmax'))\n",
    "\n",
    "model.compile(loss='categorical_crossentropy', optimizer='adam', metrics=['accuracy'])"
   ]
  },
  {
   "cell_type": "code",
   "execution_count": 11,
   "id": "e310322f",
   "metadata": {},
   "outputs": [
    {
     "name": "stdout",
     "output_type": "stream",
     "text": [
      "Epoch 1/30\n",
      "1563/1563 [==============================] - 122s 76ms/step - loss: 1.3746 - accuracy: 0.5271\n",
      "Epoch 2/30\n",
      "1563/1563 [==============================] - 126s 80ms/step - loss: 0.9463 - accuracy: 0.6679\n",
      "Epoch 3/30\n",
      "1563/1563 [==============================] - 133s 85ms/step - loss: 0.8232 - accuracy: 0.7127\n",
      "Epoch 4/30\n",
      "1563/1563 [==============================] - 128s 82ms/step - loss: 0.7494 - accuracy: 0.7391\n",
      "Epoch 5/30\n",
      "1563/1563 [==============================] - 126s 80ms/step - loss: 0.6845 - accuracy: 0.7590\n",
      "Epoch 6/30\n",
      "1563/1563 [==============================] - 123s 79ms/step - loss: 0.6358 - accuracy: 0.7774\n",
      "Epoch 7/30\n",
      "1563/1563 [==============================] - 129s 82ms/step - loss: 0.5906 - accuracy: 0.7932\n",
      "Epoch 8/30\n",
      "1563/1563 [==============================] - 129s 83ms/step - loss: 0.5606 - accuracy: 0.8025\n",
      "Epoch 9/30\n",
      "1563/1563 [==============================] - 125s 80ms/step - loss: 0.5283 - accuracy: 0.8147\n",
      "Epoch 10/30\n",
      "1563/1563 [==============================] - 136s 87ms/step - loss: 0.4997 - accuracy: 0.8255\n",
      "Epoch 11/30\n",
      "1563/1563 [==============================] - 124s 79ms/step - loss: 0.4801 - accuracy: 0.8309\n",
      "Epoch 12/30\n",
      "1563/1563 [==============================] - 125s 80ms/step - loss: 0.4562 - accuracy: 0.8387\n",
      "Epoch 13/30\n",
      "1563/1563 [==============================] - 123s 79ms/step - loss: 0.4355 - accuracy: 0.8455\n",
      "Epoch 14/30\n",
      "1563/1563 [==============================] - 119s 76ms/step - loss: 0.4166 - accuracy: 0.8537\n",
      "Epoch 15/30\n",
      "1563/1563 [==============================] - 126s 81ms/step - loss: 0.4107 - accuracy: 0.8541\n",
      "Epoch 16/30\n",
      "1563/1563 [==============================] - 124s 79ms/step - loss: 0.3936 - accuracy: 0.8589\n",
      "Epoch 17/30\n",
      "1563/1563 [==============================] - 130s 83ms/step - loss: 0.3769 - accuracy: 0.8645\n",
      "Epoch 18/30\n",
      "1563/1563 [==============================] - 126s 81ms/step - loss: 0.3703 - accuracy: 0.8700\n",
      "Epoch 19/30\n",
      "1563/1563 [==============================] - 123s 79ms/step - loss: 0.3619 - accuracy: 0.8708\n",
      "Epoch 20/30\n",
      "1563/1563 [==============================] - 129s 83ms/step - loss: 0.3514 - accuracy: 0.8762\n",
      "Epoch 21/30\n",
      "1563/1563 [==============================] - 127s 81ms/step - loss: 0.3375 - accuracy: 0.8809\n",
      "Epoch 22/30\n",
      "1563/1563 [==============================] - 129s 83ms/step - loss: 0.3350 - accuracy: 0.8815\n",
      "Epoch 23/30\n",
      "1563/1563 [==============================] - 128s 82ms/step - loss: 0.3299 - accuracy: 0.8823\n",
      "Epoch 24/30\n",
      "1563/1563 [==============================] - 121s 78ms/step - loss: 0.3246 - accuracy: 0.8848\n",
      "Epoch 25/30\n",
      "1563/1563 [==============================] - 121s 77ms/step - loss: 0.3190 - accuracy: 0.8863\n",
      "Epoch 26/30\n",
      "1563/1563 [==============================] - 122s 78ms/step - loss: 0.3083 - accuracy: 0.8907\n",
      "Epoch 27/30\n",
      "1563/1563 [==============================] - 125s 80ms/step - loss: 0.2988 - accuracy: 0.8931\n",
      "Epoch 28/30\n",
      "1563/1563 [==============================] - 128s 82ms/step - loss: 0.2913 - accuracy: 0.8974\n",
      "Epoch 29/30\n",
      "1563/1563 [==============================] - 134s 86ms/step - loss: 0.2877 - accuracy: 0.8977\n",
      "Epoch 30/30\n",
      "1563/1563 [==============================] - 131s 84ms/step - loss: 0.2871 - accuracy: 0.8988\n"
     ]
    }
   ],
   "source": [
    "#model 4\n",
    "seed=21\n",
    "numpy.random.seed(seed)\n",
    "h1 = model.fit(X_train, y_train, epochs=30, batch_size=32)"
   ]
  },
  {
   "cell_type": "code",
   "execution_count": 12,
   "id": "af4f1e87",
   "metadata": {},
   "outputs": [],
   "source": [
    "model.save('model_3CNN32b30e256dense'  + '.h5')"
   ]
  },
  {
   "cell_type": "code",
   "execution_count": 13,
   "id": "77ee7adc",
   "metadata": {},
   "outputs": [
    {
     "name": "stdout",
     "output_type": "stream",
     "text": [
      "Accuracy: 82.00%\n"
     ]
    }
   ],
   "source": [
    "scores = model.evaluate(X_test, y_test, verbose=0)\n",
    "print(\"Accuracy: %.2f%%\" % (scores[1]*100))"
   ]
  },
  {
   "cell_type": "code",
   "execution_count": 14,
   "id": "a48a1fa2",
   "metadata": {},
   "outputs": [],
   "source": [
    "#model 5\n",
    "model = keras.Sequential()\n",
    "model.add(keras.layers.Conv2D(32, (3, 3), input_shape=X_train.shape[1:], padding='same'))\n",
    "model.add(keras.layers.Activation('relu'))\n",
    "model.add(keras.layers.BatchNormalization())\n",
    "model.add(keras.layers.Dropout(0.2))\n",
    "\n",
    "model.add(keras.layers.Conv2D(64, 3, activation='relu', padding='same'))\n",
    "model.add(keras.layers.MaxPooling2D(2))\n",
    "model.add(keras.layers.BatchNormalization())\n",
    "model.add(keras.layers.Dropout(0.2))\n",
    "\n",
    "model.add(keras.layers.Conv2D(64, 3, activation='relu', padding='same'))\n",
    "model.add(keras.layers.MaxPooling2D(2))\n",
    "model.add(keras.layers.BatchNormalization())\n",
    "model.add(keras.layers.Dropout(0.2))\n",
    "    \n",
    "    \n",
    "model.add(keras.layers.Conv2D(128, 3, activation='relu', padding='same'))\n",
    "model.add(keras.layers.MaxPooling2D(2))\n",
    "model.add(keras.layers.BatchNormalization())\n",
    "model.add(keras.layers.Dropout(0.2))\n",
    "\n",
    "model.add(keras.layers.Flatten())\n",
    "model.add(keras.layers.Dropout(0.2))\n",
    "\n",
    "model.add(keras.layers.Dense(512, activation='relu'))\n",
    "model.add(keras.layers.BatchNormalization())\n",
    "model.add(keras.layers.Dropout(0.3))\n",
    "\n",
    "\n",
    "model.add(keras.layers.Dense(class_num, activation='softmax'))\n",
    "\n",
    "model.compile(loss='categorical_crossentropy', optimizer='adam', metrics=['accuracy'])"
   ]
  },
  {
   "cell_type": "code",
   "execution_count": 15,
   "id": "c1c33adc",
   "metadata": {},
   "outputs": [
    {
     "name": "stdout",
     "output_type": "stream",
     "text": [
      "Epoch 1/30\n",
      "1563/1563 [==============================] - 133s 83ms/step - loss: 1.4160 - accuracy: 0.5178\n",
      "Epoch 2/30\n",
      "1563/1563 [==============================] - 140s 90ms/step - loss: 0.9422 - accuracy: 0.6707\n",
      "Epoch 3/30\n",
      "1563/1563 [==============================] - 142s 91ms/step - loss: 0.8233 - accuracy: 0.7113\n",
      "Epoch 4/30\n",
      "1563/1563 [==============================] - 141s 90ms/step - loss: 0.7449 - accuracy: 0.7376\n",
      "Epoch 5/30\n",
      "1563/1563 [==============================] - 141s 90ms/step - loss: 0.6760 - accuracy: 0.7647\n",
      "Epoch 6/30\n",
      "1563/1563 [==============================] - 142s 91ms/step - loss: 0.6320 - accuracy: 0.7774\n",
      "Epoch 7/30\n",
      "1563/1563 [==============================] - 143s 91ms/step - loss: 0.5879 - accuracy: 0.7952\n",
      "Epoch 8/30\n",
      "1563/1563 [==============================] - 145s 93ms/step - loss: 0.5571 - accuracy: 0.8047\n",
      "Epoch 9/30\n",
      "1563/1563 [==============================] - 140s 89ms/step - loss: 0.5254 - accuracy: 0.8151\n",
      "Epoch 10/30\n",
      "1563/1563 [==============================] - 141s 90ms/step - loss: 0.5040 - accuracy: 0.8228\n",
      "Epoch 11/30\n",
      "1563/1563 [==============================] - 141s 90ms/step - loss: 0.4806 - accuracy: 0.8333\n",
      "Epoch 12/30\n",
      "1563/1563 [==============================] - 144s 92ms/step - loss: 0.4588 - accuracy: 0.8384\n",
      "Epoch 13/30\n",
      "1563/1563 [==============================] - 142s 91ms/step - loss: 0.4410 - accuracy: 0.8458\n",
      "Epoch 14/30\n",
      "1563/1563 [==============================] - 143s 91ms/step - loss: 0.4235 - accuracy: 0.8504\n",
      "Epoch 15/30\n",
      "1563/1563 [==============================] - 141s 90ms/step - loss: 0.4044 - accuracy: 0.8573\n",
      "Epoch 16/30\n",
      "1563/1563 [==============================] - 144s 92ms/step - loss: 0.3893 - accuracy: 0.8661\n",
      "Epoch 17/30\n",
      "1563/1563 [==============================] - 141s 90ms/step - loss: 0.3843 - accuracy: 0.8644\n",
      "Epoch 18/30\n",
      "1563/1563 [==============================] - 141s 90ms/step - loss: 0.3700 - accuracy: 0.8678\n",
      "Epoch 19/30\n",
      "1563/1563 [==============================] - 141s 90ms/step - loss: 0.3599 - accuracy: 0.8709\n",
      "Epoch 20/30\n",
      "1563/1563 [==============================] - 138s 88ms/step - loss: 0.3483 - accuracy: 0.8766\n",
      "Epoch 21/30\n",
      "1563/1563 [==============================] - 141s 90ms/step - loss: 0.3384 - accuracy: 0.8784\n",
      "Epoch 22/30\n",
      "1563/1563 [==============================] - 139s 89ms/step - loss: 0.3328 - accuracy: 0.8836\n",
      "Epoch 23/30\n",
      "1563/1563 [==============================] - 139s 89ms/step - loss: 0.3266 - accuracy: 0.8847\n",
      "Epoch 24/30\n",
      "1563/1563 [==============================] - 138s 89ms/step - loss: 0.3148 - accuracy: 0.8877\n",
      "Epoch 25/30\n",
      "1563/1563 [==============================] - 137s 88ms/step - loss: 0.3097 - accuracy: 0.8888\n",
      "Epoch 26/30\n",
      "1563/1563 [==============================] - 135s 86ms/step - loss: 0.3035 - accuracy: 0.8927\n",
      "Epoch 27/30\n",
      "1563/1563 [==============================] - 134s 86ms/step - loss: 0.2940 - accuracy: 0.8957\n",
      "Epoch 28/30\n",
      "1563/1563 [==============================] - 137s 87ms/step - loss: 0.2999 - accuracy: 0.8941\n",
      "Epoch 29/30\n",
      "1563/1563 [==============================] - 138s 88ms/step - loss: 0.2862 - accuracy: 0.8989\n",
      "Epoch 30/30\n",
      "1563/1563 [==============================] - 138s 89ms/step - loss: 0.2854 - accuracy: 0.8998\n"
     ]
    }
   ],
   "source": [
    "#model 4\n",
    "seed=21\n",
    "numpy.random.seed(seed)\n",
    "h1 = model.fit(X_train, y_train, epochs=30, batch_size=32)"
   ]
  },
  {
   "cell_type": "code",
   "execution_count": 14,
   "id": "0dfdf178",
   "metadata": {},
   "outputs": [],
   "source": [
    "model.save('model_4cnn32b30e256dense'  + '.h5')"
   ]
  },
  {
   "cell_type": "code",
   "execution_count": 15,
   "id": "7ff48924",
   "metadata": {},
   "outputs": [
    {
     "name": "stdout",
     "output_type": "stream",
     "text": [
      "Accuracy: 83.47%\n"
     ]
    }
   ],
   "source": [
    "scores = model.evaluate(X_test, y_test, verbose=0)\n",
    "print(\"Accuracy: %.2f%%\" % (scores[1]*100))"
   ]
  },
  {
   "cell_type": "code",
   "execution_count": 85,
   "id": "ebec84bb",
   "metadata": {},
   "outputs": [],
   "source": [
    "\n",
    "categories = {\n",
    "    0: \"airplane\",\n",
    "    1: \"automobile\",\n",
    "    2: \"bird\",\n",
    "    3: \"cat\",\n",
    "    4: \"deer\",\n",
    "    5: \"dog\",\n",
    "    6: \"frog\",\n",
    "    7: \"horse\",\n",
    "    8: \"ship\",\n",
    "    9: \"truck\"\n",
    "}\n",
    "\n",
    "\n"
   ]
  },
  {
   "cell_type": "code",
   "execution_count": 22,
   "id": "ecb37828",
   "metadata": {},
   "outputs": [
    {
     "name": "stdout",
     "output_type": "stream",
     "text": [
      "(32, 32, 3)\n"
     ]
    }
   ],
   "source": [
    "sample_image = X_test[0]\n",
    "print(sample_image.shape)"
   ]
  },
  {
   "cell_type": "code",
   "execution_count": 87,
   "id": "f8030832",
   "metadata": {},
   "outputs": [
    {
     "name": "stdout",
     "output_type": "stream",
     "text": [
      "Actual label : cat\n"
     ]
    }
   ],
   "source": [
    "import numpy as np\n",
    "\n",
    "one_hot = y_test[0] \n",
    "index_of_ones = np.where(one_hot == 1)[0]\n",
    "a=index_of_ones[0]\n",
    "#print(a)\n",
    "print(\"Actual label : %s\" % categories[a])\n",
    "sample_label=categories[a]\n"
   ]
  },
  {
   "cell_type": "code",
   "execution_count": 88,
   "id": "a7385e56",
   "metadata": {},
   "outputs": [
    {
     "name": "stdout",
     "output_type": "stream",
     "text": [
      "1/1 [==============================] - 0s 189ms/step\n"
     ]
    }
   ],
   "source": [
    "from tensorflow.keras.models import load_model\n",
    "\n",
    "m1 = load_model(\"model_4cnn32b30e256dense.h5\")\n",
    "prediction=np.argmax(m1.predict(sample_image.reshape(-1, *sample_image.shape))[0])"
   ]
  },
  {
   "cell_type": "code",
   "execution_count": 57,
   "id": "1bd7eb18",
   "metadata": {},
   "outputs": [
    {
     "name": "stdout",
     "output_type": "stream",
     "text": [
      "Predicted label: cat\n"
     ]
    }
   ],
   "source": [
    "print(\"Predicted label:\", categories[prediction])"
   ]
  },
  {
   "cell_type": "code",
   "execution_count": 84,
   "id": "0840556e",
   "metadata": {},
   "outputs": [
    {
     "data": {
      "image/png": "[encoded data removed]",
      "text/plain": [
       "<Figure size 75x75 with 1 Axes>"
      ]
     },
     "metadata": {},
     "output_type": "display_data"
    }
   ],
   "source": [
    "import matplotlib.pyplot as plt\n",
    "plt.figure(figsize=(1,1),dpi=75)\n",
    "#plt.figure(dpi=300)\n",
    "plt.imshow(sample_image)\n",
    "plt.axis('off')\n",
    "plt.show()"
   ]
  },
  {
   "cell_type": "markdown",
   "id": "db5c44c7",
   "metadata": {},
   "source": [
    "Transfer learning\n"
   ]
  }
 ],
 "metadata": {
  "kernelspec": {
   "display_name": "Python 3 (ipykernel)",
   "language": "python",
   "name": "python3"
  },
  "language_info": {
   "codemirror_mode": {
    "name": "ipython",
    "version": 3
   },
   "file_extension": ".py",
   "mimetype": "text/x-python",
   "name": "python",
   "nbconvert_exporter": "python",
   "pygments_lexer": "ipython3",
   "version": "3.9.13"
  }
 },
 "nbformat": 4,
 "nbformat_minor": 5
}
