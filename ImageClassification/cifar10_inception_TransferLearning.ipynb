{
 "cells": [
  {
   "cell_type": "code",
   "execution_count": 2,
   "id": "7d156aa7",
   "metadata": {},
   "outputs": [],
   "source": [
    "import numpy as np\n",
    "from tensorflow import keras\n",
    "from keras.constraints import maxnorm\n",
    "from keras.utils import np_utils\n",
    "from keras.datasets import cifar10\n",
    "from keras.utils.np_utils import to_categorical   \n",
    "\n",
    "\n",
    "(X_train, y_train), (X_test, y_test) = cifar10.load_data()"
   ]
  },
  {
   "cell_type": "code",
   "execution_count": 3,
   "id": "d890a755",
   "metadata": {},
   "outputs": [
    {
     "name": "stdout",
     "output_type": "stream",
     "text": [
      "Shape of training data:\n",
      "(50000, 32, 32, 3)\n",
      "(50000, 1)\n",
      "Shape of test data:\n",
      "(10000, 32, 32, 3)\n",
      "(10000, 1)\n"
     ]
    }
   ],
   "source": [
    "print(\"Shape of training data:\")\n",
    "print(X_train.shape)\n",
    "print(y_train.shape)\n",
    "print(\"Shape of test data:\")\n",
    "print(X_test.shape)\n",
    "print(y_test.shape)"
   ]
  },
  {
   "cell_type": "code",
   "execution_count": 4,
   "id": "3f5eef6e",
   "metadata": {},
   "outputs": [
    {
     "name": "stdout",
     "output_type": "stream",
     "text": [
      "[0. 0. 0. 0. 0. 0. 1. 0. 0. 0.]\n"
     ]
    }
   ],
   "source": [
    "X_train = X_train / 255.0\n",
    "X_test = X_test / 255.0\n",
    "\n",
    "y_train = np_utils.to_categorical(y_train)\n",
    "y_test = np_utils.to_categorical(y_test)\n",
    "class_num = y_test.shape\n",
    "#print(X_train[0])\n",
    "print(y_train[0])"
   ]
  },
  {
   "cell_type": "code",
   "execution_count": 5,
   "id": "cbd5efd5",
   "metadata": {},
   "outputs": [],
   "source": [
    "X_train = keras.applications.inception_v3.preprocess_input(X_train)\n",
    "X_test = keras.applications.inception_v3.preprocess_input(X_test)"
   ]
  },
  {
   "cell_type": "markdown",
   "id": "685b87d9",
   "metadata": {},
   "source": [
    "In Keras, the Lambda layer allows you to wrap an arbitrary function or lambda expression and use it as a layer in a neural network model. The Lambda layer takes a function or lambda expression as its first argument, and applies that function to each element of the input tensor.\n",
    "\n",
    "//3 channels of arbitrary shape\n",
    "inp = Input(shape=(None, None, 3))\n",
    "\n",
    "Inception Layer starts with 229X229X3\n",
    "\n",
    "set base_model, trainable = False, this means that the layers won't learn and we are just going to use what they learnt from imagenet"
   ]
  },
  {
   "cell_type": "code",
   "execution_count": 6,
   "id": "f2892996",
   "metadata": {},
   "outputs": [],
   "source": [
    "from tensorflow.keras.models import Model\n",
    "from tensorflow.keras.layers import Dense, GlobalAveragePooling2D, MaxPooling2D,Dropout\n",
    "from tensorflow.keras.applications.inception_v3 import InceptionV3\n",
    "from tensorflow.keras.optimizers import Adam\n",
    "from keras.layers import Input\n",
    "from tensorflow.keras.layers import Lambda\n",
    "\n",
    "base_inception = InceptionV3(include_top=False,\n",
    "                             input_shape=(299, 299, 3))\n",
    "\n",
    "inp_layer = Input(shape=(32, 32, 3))\n",
    "\n",
    "resizing_layer = Lambda(lambda image:keras.preprocessing.image.smart_resize(image, (299, 299)))(inp_layer)\n",
    "\n",
    "x = base_inception(resizing_layer, training=False)\n",
    "\n",
    "#x = base_inception.output\n",
    "x= GlobalAveragePooling2D()(x)\n",
    "x = Dense(1024, activation='relu')(x)\n",
    "x = Dropout(0.3)(x)\n",
    "x = Dense(256, activation='relu')(x)\n",
    "x = Dropout(0.2)(x)\n",
    "output_layer =  Dense(10, activation='softmax')(x)\n",
    "\n",
    "model = Model(inputs=inp_layer, outputs=output_layer)\n",
    "     "
   ]
  },
  {
   "cell_type": "code",
   "execution_count": null,
   "id": "2c7b43e7",
   "metadata": {},
   "outputs": [
    {
     "name": "stdout",
     "output_type": "stream",
     "text": [
      "Epoch 1/10\n",
      "196/196 [==============================] - 2644s 13s/step - loss: 2.2619 - accuracy: 0.1355 - val_loss: 2.1660 - val_accuracy: 0.1650\n",
      "Epoch 2/10\n",
      "196/196 [==============================] - 2675s 14s/step - loss: 2.0419 - accuracy: 0.2179 - val_loss: 1.8923 - val_accuracy: 0.2712\n",
      "Epoch 3/10\n",
      "196/196 [==============================] - 2688s 14s/step - loss: 1.9105 - accuracy: 0.2636 - val_loss: 1.8634 - val_accuracy: 0.3075\n",
      "Epoch 4/10\n",
      "196/196 [==============================] - 2925s 15s/step - loss: 1.8564 - accuracy: 0.2869 - val_loss: 1.7999 - val_accuracy: 0.3208\n",
      "Epoch 5/10\n",
      "196/196 [==============================] - 3015s 15s/step - loss: 1.8239 - accuracy: 0.3038 - val_loss: 1.8307 - val_accuracy: 0.3190\n",
      "Epoch 6/10\n",
      "196/196 [==============================] - 2853s 15s/step - loss: 1.8063 - accuracy: 0.3118 - val_loss: 1.7207 - val_accuracy: 0.3564\n",
      "Epoch 7/10\n",
      "196/196 [==============================] - 2725s 14s/step - loss: 1.8097 - accuracy: 0.3132 - val_loss: 1.7691 - val_accuracy: 0.3430\n",
      "Epoch 8/10\n",
      "196/196 [==============================] - ETA: 0s - loss: 1.8122 - accuracy: 0.3130 "
     ]
    }
   ],
   "source": [
    "base_inception.trainable = False\n",
    "\n",
    "\n",
    "model.compile(keras.optimizers.Adam(learning_rate=.001),loss='categorical_crossentropy',metrics=['accuracy'])\n",
    "\n",
    "h1 = model.fit(X_train,y_train,validation_data=(X_test, y_test),batch_size=256,epochs=10,verbose=1)\n"
   ]
  },
  {
   "cell_type": "code",
   "execution_count": null,
   "id": "be318a33",
   "metadata": {},
   "outputs": [],
   "source": [
    "results = model.evaluate(X_test_p, Y_test_p)"
   ]
  },
  {
   "cell_type": "markdown",
   "id": "d83b2b06",
   "metadata": {},
   "source": [
    "Fine tuning\n",
    "\n",
    "After training the model this far, unfreeze some layers in the base_inception model (our pre-trained model from keras applications). Then we will jointly train both these layers and the part that we added (to the base_inception model)\n",
    "As a starting point I have chosen to unfreeze the layers from the 164th layer(exactly starting from the mixed5 layer in the inception model!), then I will recompile the model(make sure that the model wont overfit)"
   ]
  },
  {
   "cell_type": "code",
   "execution_count": null,
   "id": "fa7f7c88",
   "metadata": {},
   "outputs": [],
   "source": [
    "\n",
    "for layer in base_inception.layers[:164]:\n",
    "  layer.trainable=False\n",
    "\n",
    "for layer in base_inception.layers[164:]:\n",
    "  layer.trainable=True\n",
    "\n",
    "my_opt = K.optimizers.Adam(1e-5)\n",
    "model.compile(optimizer=my_opt,loss='categorical_crossentropy',metrics=['accuracy'])\n",
    "\n",
    "h2 = model.fit(X_train_p,Y_train_p,validation_data=(X_test_p, Y_test_p), batch_size=300,epochs=4,verbose=1)\n",
    "\n",
    "results = model.evaluate(X_test_p, Y_test_p)"
   ]
  }
 ],
 "metadata": {
  "kernelspec": {
   "display_name": "Python 3 (ipykernel)",
   "language": "python",
   "name": "python3"
  },
  "language_info": {
   "codemirror_mode": {
    "name": "ipython",
    "version": 3
   },
   "file_extension": ".py",
   "mimetype": "text/x-python",
   "name": "python",
   "nbconvert_exporter": "python",
   "pygments_lexer": "ipython3",
   "version": "3.9.13"
  }
 },
 "nbformat": 4,
 "nbformat_minor": 5
}
