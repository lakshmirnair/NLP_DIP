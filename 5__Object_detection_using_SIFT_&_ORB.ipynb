{
  "nbformat": 4,
  "nbformat_minor": 0,
  "metadata": {
    "kernelspec": {
      "display_name": "Python 2",
      "language": "python",
      "name": "python2"
    },
    "language_info": {
      "codemirror_mode": {
        "name": "ipython",
        "version": 2
      },
      "file_extension": ".py",
      "mimetype": "text/x-python",
      "name": "python",
      "nbconvert_exporter": "python",
      "pygments_lexer": "ipython2",
      "version": "2.7.11"
    },
    "colab": {
      "name": " 5 _Object detection using SIFT & ORB.ipynb",
      "provenance": [],
      "include_colab_link": true
    }
  },
  "cells": [
    {
      "cell_type": "markdown",
      "metadata": {
        "id": "view-in-github",
        "colab_type": "text"
      },
      "source": [
        "<a href=\"https://colab.research.google.com/github/lakshmirnair/NLP_DIP/blob/master/5__Object_detection_using_SIFT_%26_ORB.ipynb\" target=\"_parent\"><img src=\"https://colab.research.google.com/assets/colab-badge.svg\" alt=\"Open In Colab\"/></a>"
      ]
    },
    {
      "cell_type": "markdown",
      "metadata": {
        "id": "kTvC_NBuqFqZ"
      },
      "source": [
        "## Mini Project #5 - Object Detection using SIFT"
      ]
    },
    {
      "cell_type": "code",
      "metadata": {
        "id": "QP7wK5ceqFqb"
      },
      "source": [
        "import cv2\n",
        "import numpy as np\n",
        "\n",
        "\n",
        "def sift_detector(new_image, image_template):\n",
        "  \n",
        "    \n",
        "    image1 = cv2.cvtColor(new_image, cv2.COLOR_BGR2GRAY)\n",
        "    image2 = image_template\n",
        "    \n",
        "    \n",
        "    sift = cv2.SIFT()\n",
        "\n",
        "    # Obtain the keypoints and descriptors using SIFT\n",
        "    keypoints_1, descriptors_1 = sift.detectAndCompute(image1, None)\n",
        "    keypoints_2, descriptors_2 = sift.detectAndCompute(image2, None)\n",
        "\n",
        "    # Define parameters for our Flann Matcher\n",
        "    FLANN_INDEX_KDTREE = 0\n",
        "    index_params = dict(algorithm = FLANN_INDEX_KDTREE, trees = 3)\n",
        "    search_params = dict(checks = 100)\n",
        "    flann = cv2.FlannBasedMatcher(index_params, search_params)\n",
        "\n",
        "    # Obtain matches using K-Nearest Neighbor Method\n",
        "    \n",
        "    matches = flann.knnMatch(descriptors_1, descriptors_2, k=2)\n",
        "\n",
        "  \n",
        "    good_matches = []\n",
        "    for m,n in matches:\n",
        "        if m.distance < 0.7 * n.distance:\n",
        "            good_matches.append(m) \n",
        "\n",
        "    return len(good_matches)\n",
        "\n",
        "\n",
        "cap = cv2.VideoCapture(0)\n",
        "\n",
        "\n",
        "image_template = cv2.imread('images/box_in_scene.png', 0) \n",
        "\n",
        "while True:\n",
        "\n",
        "    ret, frame = cap.read()\n",
        "\n",
        "    height, width = frame.shape[:2]\n",
        "\n",
        "    # Define ROI Box Dimensions\n",
        "    top_left_x = width / 3\n",
        "    top_left_y = (height / 2) + (height / 4)\n",
        "    bottom_right_x = (width / 3) * 2\n",
        "    bottom_right_y = (height / 2) - (height / 4)\n",
        "    \n",
        "    # Draw rectangular window for our region of interest   \n",
        "    cv2.rectangle(frame, (top_left_x,top_left_y), (bottom_right_x,bottom_right_y), 255, 3)\n",
        "    \n",
        "  \n",
        "    cropped = frame[bottom_right_y:top_left_y , top_left_x:bottom_right_x]\n",
        "    \n",
        "    frame = cv2.flip(frame,1)\n",
        "    \n",
        "    # Get number of SIFT matches\n",
        "    matches = sift_detector(cropped, image_template)\n",
        "\n",
        "  \n",
        "    cv2.putText(frame,str(matches),(450,450), cv2.FONT_HERSHEY_COMPLEX, 2,(0,255,0),1)\n",
        "    \n",
        "  \n",
        "    threshold = 10\n",
        "    \n",
        "    # If matches exceed our threshold then object has been detected\n",
        "    if matches > threshold:\n",
        "        cv2.rectangle(frame, (top_left_x,top_left_y), (bottom_right_x,bottom_right_y), (0,255,0), 3)\n",
        "        cv2.putText(frame,'Object Found',(50,50), cv2.FONT_HERSHEY_COMPLEX, 2 ,(0,255,0), 2)\n",
        "    \n",
        "    cv2.imshow('Object Detector using SIFT', frame)\n",
        "    if cv2.waitKey(1) == 13: #13 is the Enter Key\n",
        "        break\n",
        "\n",
        "cap.release()\n",
        "cv2.destroyAllWindows()   "
      ],
      "execution_count": null,
      "outputs": []
    },
    {
      "cell_type": "markdown",
      "metadata": {
        "id": "uI0RxqNsqFqi"
      },
      "source": [
        "## Object Detection using ORB"
      ]
    },
    {
      "cell_type": "code",
      "metadata": {
        "id": "tDhuW7D0qFqj"
      },
      "source": [
        "import cv2\n",
        "import numpy as np\n",
        "\n",
        "\n",
        "def ORB_detector(new_image, image_template):\n",
        "\n",
        "    \n",
        "    image1 = cv2.cvtColor(new_image, cv2.COLOR_BGR2GRAY)\n",
        "\n",
        "    # Create ORB detector with 1000 keypoints with a scaling pyramid factor of 1.2\n",
        "    orb = cv2.ORB(1000, 1.2)\n",
        "\n",
        "    (kp1, des1) = orb.detectAndCompute(image1, None)\n",
        "\n",
        "    # Detect keypoints of rotated image\n",
        "    (kp2, des2) = orb.detectAndCompute(image_template, None)\n",
        "\n",
        "    # create matcher\n",
        "    bf = cv2.BFMatcher(cv2.NORM_HAMMING, crossCheck=True)\n",
        "\n",
        "  \n",
        "    matches = bf.match(des1,des2)\n",
        "\n",
        "    \n",
        "    matches = sorted(matches, key=lambda val: val.distance)\n",
        "\n",
        "    return len(matches)\n",
        "\n",
        "cap = cv2.VideoCapture(0)\n",
        "\n",
        "image_template = cv2.imread('images/box_in_scene.png', 0) \n",
        "\n",
        "\n",
        "while True:\n",
        "\n",
        "    ret, frame = cap.read()\n",
        "  \n",
        "    height, width = frame.shape[:2]\n",
        "\n",
        "    # Define ROI Box Dimensions (Note some of these things should be outside the loop)\n",
        "    top_left_x = width / 3\n",
        "    top_left_y = (height / 2) + (height / 4)\n",
        "    bottom_right_x = (width / 3) * 2\n",
        "    bottom_right_y = (height / 2) - (height / 4)\n",
        "    \n",
        "\n",
        "    cv2.rectangle(frame, (top_left_x,top_left_y), (bottom_right_x,bottom_right_y), 255, 3)\n",
        "    \n",
        "  \n",
        "    cropped = frame[bottom_right_y:top_left_y , top_left_x:bottom_right_x]\n",
        "\n",
        "  \n",
        "    frame = cv2.flip(frame,1)\n",
        "    \n",
        "    matches = ORB_detector(cropped, image_template)\n",
        "    \n",
        "    # Display status string showing the current no. of matches \n",
        "    output_string = \"Matches = \" + str(matches)\n",
        "    cv2.putText(frame, output_string, (50,450), cv2.FONT_HERSHEY_COMPLEX, 2, (250,0,150), 2)\n",
        "    \n",
        "\n",
        "    threshold = 350\n",
        "    \n",
        "    if matches > threshold:\n",
        "        cv2.rectangle(frame, (top_left_x,top_left_y), (bottom_right_x,bottom_right_y), (0,255,0), 3)\n",
        "        cv2.putText(frame,'Object Found',(50,50), cv2.FONT_HERSHEY_COMPLEX, 2 ,(0,255,0), 2)\n",
        "    \n",
        "    cv2.imshow('Object Detector using ORB', frame)\n",
        "    \n",
        "    if cv2.waitKey(1) == 13: #13 is the Enter Key\n",
        "        break\n",
        "\n",
        "cap.release()\n",
        "cv2.destroyAllWindows()   "
      ],
      "execution_count": null,
      "outputs": []
    },
    {
      "cell_type": "code",
      "metadata": {
        "id": "AAvUBsXUqFqm"
      },
      "source": [
        ""
      ],
      "execution_count": null,
      "outputs": []
    }
  ]
}