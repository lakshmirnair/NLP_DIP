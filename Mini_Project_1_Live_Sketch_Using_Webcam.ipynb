{
  "nbformat": 4,
  "nbformat_minor": 0,
  "metadata": {
    "kernelspec": {
      "display_name": "Python 2",
      "language": "python",
      "name": "python2"
    },
    "language_info": {
      "codemirror_mode": {
        "name": "ipython",
        "version": 2
      },
      "file_extension": ".py",
      "mimetype": "text/x-python",
      "name": "python",
      "nbconvert_exporter": "python",
      "pygments_lexer": "ipython2",
      "version": "2.7.11"
    },
    "colab": {
      "name": "Mini Project # 1 - Live Sketch Using Webcam.ipynb",
      "provenance": [],
      "include_colab_link": true
    }
  },
  "cells": [
    {
      "cell_type": "markdown",
      "metadata": {
        "id": "view-in-github",
        "colab_type": "text"
      },
      "source": [
        "<a href=\"https://colab.research.google.com/github/lakshmirnair/NLP_DIP/blob/master/Mini_Project_1_Live_Sketch_Using_Webcam.ipynb\" target=\"_parent\"><img src=\"https://colab.research.google.com/assets/colab-badge.svg\" alt=\"Open In Colab\"/></a>"
      ]
    },
    {
      "cell_type": "markdown",
      "metadata": {
        "id": "_Fe3n2djkCQK"
      },
      "source": [
        "## Mini Project # 1 - Live Sketch Using Webcam"
      ]
    },
    {
      "cell_type": "code",
      "metadata": {
        "id": "ydeGL00ykCQN"
      },
      "source": [
        "import cv2\n",
        "import numpy as np\n",
        "\n",
        "def sketch(image):\n",
        "    \n",
        "    img_gray = cv2.cvtColor(image, cv2.COLOR_BGR2GRAY)\n",
        "    \n",
        "    #clean up image using Guassian Blur\n",
        "    img_gray_blur = cv2.GaussianBlur(img_gray, (5,5), 0)\n",
        "    \n",
        "    #Extract edges\n",
        "    canny_edges = cv2.Canny(img_gray_blur, 10, 70)\n",
        "    \n",
        "    # invert binarize the image \n",
        "    ret, mask = cv2.threshold(canny_edges, 70, 255, cv2.THRESH_BINARY_INV)\n",
        "    return mask\n",
        "\n",
        "\n",
        "\n",
        "cap = cv2.VideoCapture(0)\n",
        "\n",
        "while True:\n",
        "    ret, frame = cap.read()\n",
        "    cv2.imshow('Our Live Sketcher', sketch(frame))\n",
        "    if cv2.waitKey(1) == 13: #13 is the Enter Key\n",
        "        break\n",
        "        \n",
        "# Release camera and close windows\n",
        "cap.release()\n",
        "cv2.destroyAllWindows()      "
      ],
      "execution_count": null,
      "outputs": []
    },
    {
      "cell_type": "code",
      "metadata": {
        "id": "VZU1IKY_kCQX"
      },
      "source": [
        ""
      ],
      "execution_count": null,
      "outputs": []
    }
  ]
}