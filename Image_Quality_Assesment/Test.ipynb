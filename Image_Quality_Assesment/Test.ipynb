{
 "cells": [
  {
   "cell_type": "code",
   "execution_count": null,
   "id": "3794d3a0",
   "metadata": {},
   "outputs": [],
   "source": [
    "import numpy as np\n",
    "import pandas as pd"
   ]
  },
  {
   "cell_type": "code",
   "execution_count": null,
   "id": "6b88df2b",
   "metadata": {},
   "outputs": [],
   "source": [
    "from train import get_data,data_preprocess\n",
    "from keras.models import load_model\n",
    "from sklearn.metrics import classification_report"
   ]
  },
  {
   "cell_type": "code",
   "execution_count": null,
   "id": "719c175e",
   "metadata": {},
   "outputs": [],
   "source": [
    "\n",
    "# specify the path images\n",
    "test_dir =r\"/path_text images \"\n",
    "feture_test=get_data(test_dir)\n",
    "if df_test:\n",
    "    df_test= pd.DataFrame(feature_test)\n",
    "    df_test.drop(0,axis=1,inplace=True)\n",
    "    df_test.columns = ['Lap_mean', 'Lap_var','sob_mean', 'sob_var']\n",
    "    \n",
    "    #Specify the exact path\n",
    "    dataLabel = pd.read_csv('ImgName_Label.csv')\n",
    "    t = dataLabel['class_label'].tolist()\n",
    "    # t -contain the list of blur type values 0- aritificially blurred, 1- natuarally blurred, 2-undistorted \n",
    "    df_test['Blur_type']=t\n",
    "\n",
    "    x =df_test.iloc[:,:-1].values.astype(\"float\")\n",
    "    y=df_test.iloc[:,-1].values\n",
    "\n",
    "    x_scaled,dummy_y=data_preprocess(x,y)\n",
    "\n",
    "    model_filename= r\"C:\\Users\\hp\\Assignment\\pretrained_model.h5\"\n",
    "    model_trained=load_model(model_filename)\n",
    "\n",
    "    y_pred = model_trained.predict(x_scaled)\n",
    "\n",
    "    y_pred_blurClass = np.argmax(y_pred, axis=1)\n",
    "    print(\"Accuracy after testing: {}\".format(classification_report(y, y_pred_blurClass)))"
   ]
  },
  {
   "cell_type": "code",
   "execution_count": null,
   "id": "99af5097",
   "metadata": {},
   "outputs": [],
   "source": []
  }
 ],
 "metadata": {
  "kernelspec": {
   "display_name": "Python 3 (ipykernel)",
   "language": "python",
   "name": "python3"
  },
  "language_info": {
   "codemirror_mode": {
    "name": "ipython",
    "version": 3
   },
   "file_extension": ".py",
   "mimetype": "text/x-python",
   "name": "python",
   "nbconvert_exporter": "python",
   "pygments_lexer": "ipython3",
   "version": "3.9.13"
  }
 },
 "nbformat": 4,
 "nbformat_minor": 5
}
