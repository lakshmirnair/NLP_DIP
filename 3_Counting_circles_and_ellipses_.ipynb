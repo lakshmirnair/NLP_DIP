{
  "nbformat": 4,
  "nbformat_minor": 0,
  "metadata": {
    "kernelspec": {
      "display_name": "Python 2",
      "language": "python",
      "name": "python2"
    },
    "language_info": {
      "codemirror_mode": {
        "name": "ipython",
        "version": 2
      },
      "file_extension": ".py",
      "mimetype": "text/x-python",
      "name": "python",
      "nbconvert_exporter": "python",
      "pygments_lexer": "ipython2",
      "version": "2.7.11"
    },
    "colab": {
      "name": " 3_Counting circles and ellipses .ipynb",
      "provenance": [],
      "include_colab_link": true
    }
  },
  "cells": [
    {
      "cell_type": "markdown",
      "metadata": {
        "id": "view-in-github",
        "colab_type": "text"
      },
      "source": [
        "<a href=\"https://colab.research.google.com/github/lakshmirnair/NLP_DIP/blob/master/3_Counting_circles_and_ellipses_.ipynb\" target=\"_parent\"><img src=\"https://colab.research.google.com/assets/colab-badge.svg\" alt=\"Open In Colab\"/></a>"
      ]
    },
    {
      "cell_type": "markdown",
      "metadata": {
        "id": "O9porfQro8YG"
      },
      "source": [
        "## Mini Project # 3 - Counting Circles and Ellipses "
      ]
    },
    {
      "cell_type": "code",
      "metadata": {
        "id": "04obK9X3o8YI"
      },
      "source": [
        "import cv2\n",
        "import numpy as np\n",
        "\n",
        "image = cv2.imread(\"images/blobs.jpg\", 0)\n",
        "cv2.imshow('Original Image',image)\n",
        "cv2.waitKey(0)\n",
        "\n",
        "detector = cv2.SimpleBlobDetector()\n",
        " \n",
        "keypoints = detector.detect(image)\n",
        " \n",
        "# draw blobs on our image as red circles\n",
        "blank = np.zeros((1,1)) \n",
        "blobs = cv2.drawKeypoints(image, keypoints, blank, (0,0,255),\n",
        "                                      cv2.DRAW_MATCHES_FLAGS_DRAW_RICH_KEYPOINTS)\n",
        "\n",
        "number_of_blobs = len(keypoints)\n",
        "text = \"Total Number of Blobs: \" + str(len(keypoints))\n",
        "cv2.putText(blobs, text, (20, 550), cv2.FONT_HERSHEY_SIMPLEX, 1, (100, 0, 255), 2)\n",
        "\n",
        "cv2.imshow(\"Blobs using default parameters\", blobs)\n",
        "cv2.waitKey(0)\n",
        "\n",
        "params = cv2.SimpleBlobDetector_Params()\n",
        "\n",
        "# set Area filtering parameters\n",
        "params.filterByArea = True\n",
        "params.minArea = 100\n",
        "\n",
        "# set Circularity filtering parameters\n",
        "params.filterByCircularity = True \n",
        "params.minCircularity = 0.9\n",
        "\n",
        "# set Convexity filtering parameters\n",
        "params.filterByConvexity = False\n",
        "params.minConvexity = 0.2\n",
        "    \n",
        "# set inertia filtering parameters\n",
        "params.filterByInertia = True\n",
        "params.minInertiaRatio = 0.01\n",
        "\n",
        "# create a detector with the parameters\n",
        "detector = cv2.SimpleBlobDetector(params)\n",
        "    \n",
        "# detect blobs\n",
        "keypoints = detector.detect(image)\n",
        "\n",
        "# draw blobs on our image as red circles\n",
        "blank = np.zeros((1,1)) \n",
        "blobs = cv2.drawKeypoints(image, keypoints, blank, (0,255,0),\n",
        "                                      cv2.DRAW_MATCHES_FLAGS_DRAW_RICH_KEYPOINTS)\n",
        "\n",
        "number_of_blobs = len(keypoints)\n",
        "text = \"Number of Circular Blobs: \" + str(len(keypoints))\n",
        "cv2.putText(blobs, text, (20, 550), cv2.FONT_HERSHEY_SIMPLEX, 1, (0, 100, 255), 2)\n",
        "\n",
        "cv2.imshow(\"Filtering Circular Blobs Only\", blobs)\n",
        "cv2.waitKey(0)\n",
        "cv2.destroyAllWindows()"
      ],
      "execution_count": null,
      "outputs": []
    },
    {
      "cell_type": "code",
      "metadata": {
        "id": "5Q6EN8jjo8YL"
      },
      "source": [
        ""
      ],
      "execution_count": null,
      "outputs": []
    }
  ]
}