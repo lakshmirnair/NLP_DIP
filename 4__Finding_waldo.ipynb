{
  "nbformat": 4,
  "nbformat_minor": 0,
  "metadata": {
    "kernelspec": {
      "display_name": "Python 2",
      "language": "python",
      "name": "python2"
    },
    "language_info": {
      "codemirror_mode": {
        "name": "ipython",
        "version": 2
      },
      "file_extension": ".py",
      "mimetype": "text/x-python",
      "name": "python",
      "nbconvert_exporter": "python",
      "pygments_lexer": "ipython2",
      "version": "2.7.13"
    },
    "colab": {
      "name": " 4_ Finding waldo.ipynb",
      "provenance": [],
      "include_colab_link": true
    }
  },
  "cells": [
    {
      "cell_type": "markdown",
      "metadata": {
        "id": "view-in-github",
        "colab_type": "text"
      },
      "source": [
        "<a href=\"https://colab.research.google.com/github/lakshmirnair/NLP_DIP/blob/master/4__Finding_waldo.ipynb\" target=\"_parent\"><img src=\"https://colab.research.google.com/assets/colab-badge.svg\" alt=\"Open In Colab\"/></a>"
      ]
    },
    {
      "cell_type": "markdown",
      "metadata": {
        "id": "K49ZTa-npsh0"
      },
      "source": [
        "## Mini Project # 4 - Finding Waldo"
      ]
    },
    {
      "cell_type": "code",
      "metadata": {
        "id": "kR0GwQ3Tpsh1"
      },
      "source": [
        "import cv2\n",
        "import numpy as np\n",
        "\n",
        "\n",
        "image = cv2.imread('./images/WaldoBeach.jpg')\n",
        "cv2.imshow('Where is Waldo?', image)\n",
        "cv2.waitKey(0)\n",
        "gray = cv2.cvtColor(image, cv2.COLOR_BGR2GRAY)\n",
        "\n",
        "\n",
        "template = cv2.imread('./images/waldo.jpg',0)\n",
        "\n",
        "result = cv2.matchTemplate(gray, template, cv2.TM_CCOEFF)\n",
        "min_val, max_val, min_loc, max_loc = cv2.minMaxLoc(result)\n",
        "\n",
        "#Create Bounding Box\n",
        "top_left = max_loc\n",
        "bottom_right = (top_left[0] + 50, top_left[1] + 50)\n",
        "cv2.rectangle(image, top_left, bottom_right, (0,0,255), 5)\n",
        "\n",
        "cv2.imshow('Where is Waldo?', image)\n",
        "cv2.waitKey(0)\n",
        "cv2.destroyAllWindows()"
      ],
      "execution_count": null,
      "outputs": []
    }
  ]
}