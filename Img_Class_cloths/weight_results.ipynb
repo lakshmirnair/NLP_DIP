{
 "cells": [
  {
   "cell_type": "code",
   "execution_count": 3,
   "id": "2e60da7b",
   "metadata": {},
   "outputs": [
    {
     "name": "stdout",
     "output_type": "stream",
     "text": [
      "18391\n",
      "5751\n"
     ]
    }
   ],
   "source": [
    "import os\n",
    "import fnmatch\n",
    "\n",
    "\n",
    "def filecount(dir_path):\n",
    "    co= len(fnmatch.filter(os.listdir(dir_path), '*.*'))\n",
    "    print(co)\n",
    "    return co\n",
    "\n",
    "dir1=r'C:\\Users\\hp\\ImgClass_Fashion\\image-classification-pants\\train'\n",
    "count_train=filecount(dir1)\n",
    "\n",
    "dir2=r'C:\\Users\\hp\\ImgClass_Fashion\\image-classification-pants\\test'\n",
    "count_test=filecount(dir2)"
   ]
  },
  {
   "cell_type": "code",
   "execution_count": 4,
   "id": "704acd6e",
   "metadata": {},
   "outputs": [
    {
     "name": "stdout",
     "output_type": "stream",
     "text": [
      "1    5384\n",
      "2    4084\n",
      "3    2008\n",
      "4    1972\n",
      "6    1925\n",
      "5    1616\n",
      "0    1402\n",
      "Name: label, dtype: int64\n",
      "<class 'pandas.core.series.Series'>\n"
     ]
    }
   ],
   "source": [
    "import pandas as pd\n",
    "data=pd.read_csv(r'C:\\Users\\hp\\ImgClass_Fashion\\image-classification-pants\\train.csv')\n",
    "\n",
    "data.label =data.label.astype('int64')\n",
    "f=data['label'].value_counts()\n",
    "\n",
    "print(f)\n",
    "print(type(f))"
   ]
  },
  {
   "cell_type": "code",
   "execution_count": 5,
   "id": "c27168d1",
   "metadata": {},
   "outputs": [],
   "source": [
    "y=data.iloc[:,-1].values"
   ]
  },
  {
   "cell_type": "code",
   "execution_count": 6,
   "id": "cba98136",
   "metadata": {},
   "outputs": [
    {
     "data": {
      "image/png": "[encoded data removed]",
      "text/plain": [
       "<Figure size 640x480 with 1 Axes>"
      ]
     },
     "metadata": {},
     "output_type": "display_data"
    }
   ],
   "source": [
    "import matplotlib.pyplot as plt\n",
    "data['label'].value_counts().plot(kind='bar')\n",
    "plt.title('Data in each category')\n",
    "plt.xlabel('label values')\n",
    "plt.ylabel('count')\n",
    "plt.show()"
   ]
  },
  {
   "cell_type": "code",
   "execution_count": 7,
   "id": "a85b8289",
   "metadata": {},
   "outputs": [
    {
     "name": "stdout",
     "output_type": "stream",
     "text": [
      "18391\n",
      "5751\n"
     ]
    }
   ],
   "source": [
    "import cv2\n",
    "\n",
    "def groupdata(path):\n",
    "    x=[]\n",
    "    for img in os.listdir(path):\n",
    "        image_path=path+\"/\"+img\n",
    "        img_arr=cv2.imread(image_path)\n",
    "        img_arr=cv2.resize(img_arr,(32,32))\n",
    "        x.append(img_arr)\n",
    "    print(len(x))\n",
    "    return x\n",
    "\n",
    "x=groupdata(dir1)\n",
    "x_unseen=groupdata(dir2)"
   ]
  },
  {
   "cell_type": "code",
   "execution_count": 8,
   "id": "51b734f8",
   "metadata": {},
   "outputs": [],
   "source": [
    "from sklearn.model_selection import train_test_split\n",
    "\n",
    "x_train, x_test, y_train, y_test = train_test_split(x,y,test_size=0.333, random_state=42)"
   ]
  },
  {
   "cell_type": "code",
   "execution_count": 9,
   "id": "c7b7fccb",
   "metadata": {},
   "outputs": [
    {
     "name": "stdout",
     "output_type": "stream",
     "text": [
      "12266\n",
      "6125\n",
      "12266\n",
      "6125\n"
     ]
    }
   ],
   "source": [
    "print(len(x_train))\n",
    "print(len(x_test))\n",
    "print(len(y_train))\n",
    "print(len(y_test))"
   ]
  },
  {
   "cell_type": "code",
   "execution_count": 10,
   "id": "d004f2d0",
   "metadata": {},
   "outputs": [
    {
     "name": "stdout",
     "output_type": "stream",
     "text": [
      "Unique values: [0 1 2 3 4 5 6]\n",
      "Counts: [ 937 3628 2750 1330 1301 1045 1275]\n"
     ]
    }
   ],
   "source": [
    "import numpy as np\n",
    "unique_values, counts = np.unique(y_train, return_counts=True)\n",
    "\n",
    "print(\"Unique values:\", unique_values)\n",
    "print(\"Counts:\", counts)"
   ]
  },
  {
   "cell_type": "code",
   "execution_count": 11,
   "id": "9547f9df",
   "metadata": {},
   "outputs": [
    {
     "name": "stdout",
     "output_type": "stream",
     "text": [
      "[1.87, 0.48, 0.64, 1.32, 1.35, 1.68, 1.37]\n"
     ]
    }
   ],
   "source": [
    "import numpy as np\n",
    "\n",
    "from sklearn.utils.class_weight import compute_class_weight\n",
    "\n",
    "\n",
    "class_weights = compute_class_weight(class_weight='balanced', classes=np.unique(y_train), y=y_train)\n",
    "\n",
    "cla_w= [round(i, 2) for i in class_weights]\n",
    "print(cla_w)"
   ]
  },
  {
   "cell_type": "code",
   "execution_count": 12,
   "id": "810a7c12",
   "metadata": {},
   "outputs": [
    {
     "name": "stdout",
     "output_type": "stream",
     "text": [
      "{0: 1.87, 1: 0.48, 2: 0.64, 3: 1.32, 4: 1.35, 5: 1.68, 6: 1.37}\n"
     ]
    }
   ],
   "source": [
    "class_weights = {0: cla_w[0], 1:cla_w[1], 2:cla_w[2],3:cla_w[3],4:cla_w[4],5:cla_w[5],6:cla_w[6]}\n",
    "print(class_weights)"
   ]
  },
  {
   "cell_type": "code",
   "execution_count": 13,
   "id": "dc92b673",
   "metadata": {},
   "outputs": [],
   "source": [
    "import numpy as np\n",
    "\n",
    "x_train=np.array(x_train)\n",
    "x_test=np.array(x_test)\n",
    "x_unseen=np.array(x_unseen)\n",
    "\n",
    "x_train=(x_train.astype('float32'))/255.0\n",
    "x_test=(x_test.astype('float32'))/255.0\n",
    "x_unseen=(x_unseen.astype('float32'))/255.0"
   ]
  },
  {
   "cell_type": "code",
   "execution_count": 14,
   "id": "79e159a1",
   "metadata": {},
   "outputs": [],
   "source": [
    "from tensorflow import keras\n",
    "from keras.utils import np_utils\n",
    "\n",
    "y_train = np_utils.to_categorical(y_train)\n",
    "y_test = np_utils.to_categorical(y_test)\n"
   ]
  },
  {
   "cell_type": "code",
   "execution_count": 15,
   "id": "fba377c6",
   "metadata": {},
   "outputs": [
    {
     "name": "stdout",
     "output_type": "stream",
     "text": [
      "(12266, 32, 32, 3)\n",
      "(6125, 32, 32, 3)\n",
      "(12266, 7)\n",
      "(6125, 7)\n"
     ]
    }
   ],
   "source": [
    "print(x_train.shape)\n",
    "print(x_test.shape)\n",
    "print(y_train.shape)\n",
    "print(y_test.shape)\n",
    "#print(class_num)"
   ]
  },
  {
   "cell_type": "code",
   "execution_count": 23,
   "id": "72c767a8",
   "metadata": {},
   "outputs": [],
   "source": [
    "model = keras.Sequential()\n",
    "model.add(keras.layers.Conv2D(32, (3, 3),kernel_initializer='he_uniform', input_shape=x_train.shape[1:], padding='same'))\n",
    "model.add(keras.layers.Activation('relu'))\n",
    "model.add(keras.layers.BatchNormalization())\n",
    "model.add(keras.layers.Dropout(0.2))\n",
    "\n",
    "model.add(keras.layers.Conv2D(64, 3, activation='relu', padding='same'))\n",
    "model.add(keras.layers.MaxPooling2D(2))\n",
    "model.add(keras.layers.BatchNormalization())\n",
    "model.add(keras.layers.Dropout(0.2))\n",
    "\n",
    "model.add(keras.layers.Conv2D(64, 3, activation='relu', padding='same'))\n",
    "model.add(keras.layers.MaxPooling2D(2))\n",
    "model.add(keras.layers.BatchNormalization())\n",
    "model.add(keras.layers.Dropout(0.2))\n",
    "\n",
    "    \n",
    "model.add(keras.layers.Flatten())\n",
    "model.add(keras.layers.Dropout(0.2))\n",
    "\n",
    "model.add(keras.layers.Dense(128, kernel_initializer='he_uniform',activation='relu'))\n",
    "#model.add(keras.layers.BatchNormalization())\n",
    "model.add(keras.layers.Dropout(0.3))\n",
    "\n",
    "model.add(keras.layers.Dense(32,activation='relu'))\n",
    "#model.add(keras.layers.BatchNormalization())\n",
    "model.add(keras.layers.Dropout(0.3))\n",
    "\n",
    "model.add(keras.layers.Dense(7, activation='softmax'))\n",
    "\n",
    "model.compile(loss='categorical_crossentropy', optimizer='adam', metrics=['accuracy'])"
   ]
  },
  {
   "cell_type": "code",
   "execution_count": 24,
   "id": "886c6ea2",
   "metadata": {},
   "outputs": [
    {
     "name": "stdout",
     "output_type": "stream",
     "text": [
      "Epoch 1/25\n",
      "384/384 [==============================] - 45s 111ms/step - loss: 1.9303 - accuracy: 0.2049 - val_loss: 1.8384 - val_accuracy: 0.2584\n",
      "Epoch 2/25\n",
      "384/384 [==============================] - 41s 106ms/step - loss: 1.7207 - accuracy: 0.2563 - val_loss: 1.6393 - val_accuracy: 0.2998\n",
      "Epoch 3/25\n",
      "384/384 [==============================] - 42s 109ms/step - loss: 1.6237 - accuracy: 0.2893 - val_loss: 1.5393 - val_accuracy: 0.3486\n",
      "Epoch 4/25\n",
      "384/384 [==============================] - 41s 107ms/step - loss: 1.5520 - accuracy: 0.3030 - val_loss: 1.4922 - val_accuracy: 0.3695\n",
      "Epoch 5/25\n",
      "384/384 [==============================] - 43s 113ms/step - loss: 1.4808 - accuracy: 0.3312 - val_loss: 1.6610 - val_accuracy: 0.2857\n",
      "Epoch 6/25\n",
      "384/384 [==============================] - 40s 104ms/step - loss: 1.4264 - accuracy: 0.3476 - val_loss: 1.4622 - val_accuracy: 0.4002\n",
      "Epoch 7/25\n",
      "384/384 [==============================] - 40s 103ms/step - loss: 1.3732 - accuracy: 0.3674 - val_loss: 1.4117 - val_accuracy: 0.3989\n",
      "Epoch 8/25\n",
      "384/384 [==============================] - 41s 106ms/step - loss: 1.3272 - accuracy: 0.3811 - val_loss: 1.3558 - val_accuracy: 0.4217\n",
      "Epoch 9/25\n",
      "384/384 [==============================] - 42s 109ms/step - loss: 1.2930 - accuracy: 0.3956 - val_loss: 1.4001 - val_accuracy: 0.4087\n",
      "Epoch 10/25\n",
      "384/384 [==============================] - 43s 113ms/step - loss: 1.2482 - accuracy: 0.4072 - val_loss: 1.3436 - val_accuracy: 0.4289\n",
      "Epoch 11/25\n",
      "384/384 [==============================] - 42s 110ms/step - loss: 1.2168 - accuracy: 0.4217 - val_loss: 1.3572 - val_accuracy: 0.4216\n",
      "Epoch 12/25\n",
      "384/384 [==============================] - 42s 109ms/step - loss: 1.1874 - accuracy: 0.4358 - val_loss: 1.3071 - val_accuracy: 0.4438\n",
      "Epoch 13/25\n",
      "384/384 [==============================] - 43s 113ms/step - loss: 1.1447 - accuracy: 0.4433 - val_loss: 1.2771 - val_accuracy: 0.4553\n",
      "Epoch 14/25\n",
      "384/384 [==============================] - 41s 105ms/step - loss: 1.1141 - accuracy: 0.4598 - val_loss: 1.5150 - val_accuracy: 0.3819\n",
      "Epoch 15/25\n",
      "384/384 [==============================] - 40s 105ms/step - loss: 1.0973 - accuracy: 0.4650 - val_loss: 1.4633 - val_accuracy: 0.4310\n",
      "Epoch 16/25\n",
      "384/384 [==============================] - 40s 104ms/step - loss: 1.0699 - accuracy: 0.4776 - val_loss: 1.2437 - val_accuracy: 0.4857\n",
      "Epoch 17/25\n",
      "384/384 [==============================] - 40s 103ms/step - loss: 1.0481 - accuracy: 0.4817 - val_loss: 1.2803 - val_accuracy: 0.4702\n",
      "Epoch 18/25\n",
      "384/384 [==============================] - 40s 103ms/step - loss: 0.9987 - accuracy: 0.4937 - val_loss: 1.3618 - val_accuracy: 0.4465\n",
      "Epoch 19/25\n",
      "384/384 [==============================] - 45s 117ms/step - loss: 1.0031 - accuracy: 0.4976 - val_loss: 1.2535 - val_accuracy: 0.4790\n",
      "Epoch 20/25\n",
      "384/384 [==============================] - 42s 110ms/step - loss: 0.9737 - accuracy: 0.5124 - val_loss: 1.2897 - val_accuracy: 0.4696\n",
      "Epoch 21/25\n",
      "384/384 [==============================] - 42s 110ms/step - loss: 0.9556 - accuracy: 0.5115 - val_loss: 1.2869 - val_accuracy: 0.4710\n",
      "Epoch 22/25\n",
      "384/384 [==============================] - 43s 112ms/step - loss: 0.9166 - accuracy: 0.5346 - val_loss: 1.2761 - val_accuracy: 0.4751\n",
      "Epoch 23/25\n",
      "384/384 [==============================] - 43s 112ms/step - loss: 0.9039 - accuracy: 0.5390 - val_loss: 1.2435 - val_accuracy: 0.5006\n",
      "Epoch 24/25\n",
      "384/384 [==============================] - 43s 113ms/step - loss: 0.8862 - accuracy: 0.5525 - val_loss: 1.2733 - val_accuracy: 0.4880\n",
      "Epoch 25/25\n",
      "384/384 [==============================] - 43s 113ms/step - loss: 0.8589 - accuracy: 0.5618 - val_loss: 1.2687 - val_accuracy: 0.5078\n"
     ]
    }
   ],
   "source": [
    "import numpy\n",
    "seed=21\n",
    "numpy.random.seed(seed)\n",
    "h1= model.fit(x_train, y_train, validation_data=(x_test, y_test), epochs=25, batch_size=32,class_weight=class_weights)\n"
   ]
  },
  {
   "cell_type": "code",
   "execution_count": 18,
   "id": "72166d08",
   "metadata": {},
   "outputs": [
    {
     "data": {
      "image/png": "[encoded data removed]",
      "text/plain": [
       "<Figure size 640x480 with 1 Axes>"
      ]
     },
     "metadata": {},
     "output_type": "display_data"
    }
   ],
   "source": [
    "import pandas as pd\n",
    "import matplotlib.pyplot as plt\n",
    "\n",
    "pd.DataFrame(h1.history).plot()\n",
    "plt.show()"
   ]
  },
  {
   "cell_type": "code",
   "execution_count": null,
   "id": "631050e0",
   "metadata": {},
   "outputs": [],
   "source": [
    "model.save('model_3cnn64b30e32dense_weight'  + '.h5')"
   ]
  },
  {
   "cell_type": "code",
   "execution_count": 19,
   "id": "7c14b6ac",
   "metadata": {},
   "outputs": [
    {
     "name": "stdout",
     "output_type": "stream",
     "text": [
      "180/180 [==============================] - 4s 18ms/step\n"
     ]
    }
   ],
   "source": [
    "prob= model.predict(x_unseen)"
   ]
  },
  {
   "cell_type": "code",
   "execution_count": 20,
   "id": "7d60a622",
   "metadata": {},
   "outputs": [],
   "source": [
    "pre_label = np.argmax(prob,axis=1)"
   ]
  },
  {
   "cell_type": "code",
   "execution_count": 21,
   "id": "8bf15d68",
   "metadata": {},
   "outputs": [
    {
     "name": "stdout",
     "output_type": "stream",
     "text": [
      "['Image_test_00001.jpg', 'Image_test_00002.jpg', 'Image_test_00003.jpg', 'Image_test_00004.jpg', 'Image_test_00005.jpg']\n"
     ]
    }
   ],
   "source": [
    "import os\n",
    "import glob\n",
    "\n",
    "img_dir = r\"C:\\Users\\hp\\ImgClass_Fashion\\image-classification-pants\\test\"  \n",
    "extensions = ['*.jpg', '*.jpeg', '*.png']  \n",
    "\n",
    "image_files = []\n",
    "for extension in extensions:\n",
    "    image_files.extend(glob.glob(os.path.join(img_dir, extension)))\n",
    "\n",
    "# Extract just the file names without the path\n",
    "image_files = [os.path.basename(f) for f in image_files]\n",
    "\n",
    "print(image_files[:5])"
   ]
  },
  {
   "cell_type": "code",
   "execution_count": 22,
   "id": "6c1b9227",
   "metadata": {},
   "outputs": [],
   "source": [
    "import csv\n",
    "with open('weights_labels.csv', 'w', newline='') as file:\n",
    "    writer = csv.writer(file)\n",
    "    writer.writerow(['file_name', 'label'])\n",
    "    for i in range(len(image_files)):\n",
    "        writer.writerow([image_files[i], pre_label[i]])"
   ]
  },
  {
   "cell_type": "code",
   "execution_count": null,
   "id": "3717eaad",
   "metadata": {},
   "outputs": [],
   "source": []
  }
 ],
 "metadata": {
  "kernelspec": {
   "display_name": "Python 3 (ipykernel)",
   "language": "python",
   "name": "python3"
  },
  "language_info": {
   "codemirror_mode": {
    "name": "ipython",
    "version": 3
   },
   "file_extension": ".py",
   "mimetype": "text/x-python",
   "name": "python",
   "nbconvert_exporter": "python",
   "pygments_lexer": "ipython3",
   "version": "3.9.13"
  }
 },
 "nbformat": 4,
 "nbformat_minor": 5
}
