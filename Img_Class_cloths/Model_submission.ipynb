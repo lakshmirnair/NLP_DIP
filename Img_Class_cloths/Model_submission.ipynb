{
 "cells": [
  {
   "cell_type": "code",
   "execution_count": 1,
   "id": "0712d745",
   "metadata": {},
   "outputs": [
    {
     "name": "stdout",
     "output_type": "stream",
     "text": [
      "18391\n",
      "5751\n"
     ]
    }
   ],
   "source": [
    "import os\n",
    "import fnmatch\n",
    "\n",
    "\n",
    "def filecount(dir_path):\n",
    "    co= len(fnmatch.filter(os.listdir(dir_path), '*.*'))\n",
    "    print(co)\n",
    "    return co\n",
    "\n",
    "dir1=r'C:\\Users\\hp\\ImgClass_Fashion\\image-classification-pants\\train'\n",
    "count_train=filecount(dir1)\n",
    "\n",
    "dir2=r'C:\\Users\\hp\\ImgClass_Fashion\\image-classification-pants\\test'\n",
    "count_test=filecount(dir2)"
   ]
  },
  {
   "cell_type": "code",
   "execution_count": 2,
   "id": "2f7d24b3",
   "metadata": {},
   "outputs": [
    {
     "name": "stdout",
     "output_type": "stream",
     "text": [
      "1    5384\n",
      "2    4084\n",
      "3    2008\n",
      "4    1972\n",
      "6    1925\n",
      "5    1616\n",
      "0    1402\n",
      "Name: label, dtype: int64\n",
      "<class 'pandas.core.series.Series'>\n"
     ]
    }
   ],
   "source": [
    "import pandas as pd\n",
    "data=pd.read_csv(r'C:\\Users\\hp\\ImgClass_Fashion\\image-classification-pants\\train.csv')\n",
    "\n",
    "data.label =data.label.astype('int64')\n",
    "f=data['label'].value_counts()\n",
    "\n",
    "print(f)\n",
    "print(type(f))"
   ]
  },
  {
   "cell_type": "code",
   "execution_count": 3,
   "id": "854eb83a",
   "metadata": {},
   "outputs": [],
   "source": [
    "y=data.iloc[:,-1].values"
   ]
  },
  {
   "cell_type": "code",
   "execution_count": 4,
   "id": "c6d5d2d2",
   "metadata": {},
   "outputs": [
    {
     "data": {
      "image/png": "[encoded data removed]",
      "text/plain": [
       "<Figure size 640x480 with 1 Axes>"
      ]
     },
     "metadata": {},
     "output_type": "display_data"
    }
   ],
   "source": [
    "import matplotlib.pyplot as plt\n",
    "data['label'].value_counts().plot(kind='bar')\n",
    "plt.title('Data in each category')\n",
    "plt.xlabel('label values')\n",
    "plt.ylabel('count')\n",
    "plt.show()"
   ]
  },
  {
   "cell_type": "code",
   "execution_count": 5,
   "id": "802ad4ea",
   "metadata": {},
   "outputs": [
    {
     "name": "stdout",
     "output_type": "stream",
     "text": [
      "37575\n"
     ]
    }
   ],
   "source": [
    "#y augmentation\n",
    "import numpy as np\n",
    "\n",
    "y_aug = np.empty((0,), dtype=int)\n",
    "c0,c2,c3,c4,c5,c6=0,0,0,0,0,0\n",
    "ind= np.empty((0,), dtype=int)\n",
    "\n",
    "for i in range(len(y)):\n",
    "    if (y[i] == 0 and c0 <247):\n",
    "        y_aug = np.append(y_aug, y[i])\n",
    "        y_aug = np.append(y_aug, np.zeros(16, dtype=int))\n",
    "        c0+=1\n",
    "        ind=np.append(ind,i)\n",
    "    elif (y[i] == 2 and c2 <80):\n",
    "        y_aug = np.append(y_aug, y[i])\n",
    "        y_aug = np.append(y_aug, np.full(16, 2, dtype=int))\n",
    "        c2+=1\n",
    "        ind=np.append(ind,i)\n",
    "    elif (y[i] == 3 and c3 <211):\n",
    "        y_aug = np.append(y_aug, y[i])\n",
    "        y_aug = np.append(y_aug, np.full(16, 3, dtype=int))\n",
    "        c3+=1\n",
    "        ind=np.append(ind,i)\n",
    "    elif (y[i] == 4 and c4 <212):\n",
    "        y_aug = np.append(y_aug, y[i])\n",
    "        y_aug = np.append(y_aug, np.full(16, 4, dtype=int))\n",
    "        c4+=1\n",
    "        ind=np.append(ind,i)\n",
    "    elif (y[i] == 5 and c5 < 234):\n",
    "        y_aug = np.append(y_aug, y[i])\n",
    "        y_aug = np.append(y_aug, np.full(16, 5, dtype=int))\n",
    "        c5+=1\n",
    "        ind=np.append(ind,i)\n",
    "    elif (y[i] == 6 and c6 < 215):\n",
    "        y_aug = np.append(y_aug, y[i])\n",
    "        y_aug = np.append(y_aug, np.full(16, 6, dtype=int))\n",
    "        c6+=1\n",
    "        ind=np.append(ind,i)\n",
    "    else:\n",
    "        y_aug = np.append(y_aug, y[i])\n",
    "\n",
    "\n",
    "print(len(y_aug))"
   ]
  },
  {
   "cell_type": "code",
   "execution_count": 6,
   "id": "2181df6d",
   "metadata": {},
   "outputs": [
    {
     "name": "stdout",
     "output_type": "stream",
     "text": [
      "Unique values: [0 1 2 3 4 5 6]\n",
      "Counts: [5354 5384 5364 5384 5364 5360 5365]\n"
     ]
    }
   ],
   "source": [
    "unique_values, counts = np.unique(y_aug, return_counts=True)\n",
    "\n",
    "print(\"Unique values:\", unique_values)\n",
    "print(\"Counts:\", counts)"
   ]
  },
  {
   "cell_type": "code",
   "execution_count": 7,
   "id": "b019d092",
   "metadata": {},
   "outputs": [
    {
     "name": "stdout",
     "output_type": "stream",
     "text": [
      "18391\n",
      "5751\n"
     ]
    }
   ],
   "source": [
    "import cv2\n",
    "\n",
    "def groupdata(path):\n",
    "    x=[]\n",
    "    for img in os.listdir(path):\n",
    "        image_path=path+\"/\"+img\n",
    "        img_arr=cv2.imread(image_path)\n",
    "        img_arr=cv2.resize(img_arr,(32,32))\n",
    "        x.append(img_arr)\n",
    "    print(len(x))\n",
    "    return x\n",
    "\n",
    "x=groupdata(dir1)\n",
    "x_unseen=groupdata(dir2)"
   ]
  },
  {
   "cell_type": "code",
   "execution_count": 8,
   "id": "6136453c",
   "metadata": {},
   "outputs": [],
   "source": [
    "from keras.preprocessing.image import ImageDataGenerator\n",
    "\n",
    "datagen = ImageDataGenerator(\n",
    "        rotation_range=40,\n",
    "        width_shift_range=0.2,\n",
    "        height_shift_range=0.2,\n",
    "        shear_range=0.2,\n",
    "        zoom_range=0.2,\n",
    "        horizontal_flip=True,\n",
    "        fill_mode='nearest')"
   ]
  },
  {
   "cell_type": "code",
   "execution_count": 9,
   "id": "eb368787",
   "metadata": {},
   "outputs": [],
   "source": [
    "x_aug=[]\n",
    "for i in range(len(x)):\n",
    "    if i in ind:\n",
    "        \n",
    "        img = x[i]\n",
    "        x_aug.append(x[i])\n",
    "        img = img.reshape((1,) + img.shape)\n",
    "        aug_iter = datagen.flow(img, batch_size=1)\n",
    "        for j in range(16):\n",
    "            aug_img = next(aug_iter)[0].astype(np.uint8)\n",
    "            x_aug.append(aug_img)\n",
    "    else:\n",
    "        x_aug.append(x[i])\n",
    "x_aug=np.array(x_aug)"
   ]
  },
  {
   "cell_type": "code",
   "execution_count": 10,
   "id": "dc308ea5",
   "metadata": {},
   "outputs": [
    {
     "name": "stdout",
     "output_type": "stream",
     "text": [
      "(37575, 32, 32, 3)\n"
     ]
    }
   ],
   "source": [
    "print(x_aug.shape)\n"
   ]
  },
  {
   "cell_type": "code",
   "execution_count": 11,
   "id": "3c689e72",
   "metadata": {},
   "outputs": [],
   "source": [
    "from sklearn.model_selection import train_test_split\n",
    "\n",
    "x_train, x_test, y_train, y_test = train_test_split(x_aug,y_aug,test_size=0.333, random_state=42)"
   ]
  },
  {
   "cell_type": "code",
   "execution_count": 12,
   "id": "0e6cc2ee",
   "metadata": {},
   "outputs": [
    {
     "name": "stdout",
     "output_type": "stream",
     "text": [
      "25062\n",
      "12513\n",
      "25062\n",
      "12513\n"
     ]
    }
   ],
   "source": [
    "print(len(x_train))\n",
    "print(len(x_test))\n",
    "print(len(y_train))\n",
    "print(len(y_test))"
   ]
  },
  {
   "cell_type": "code",
   "execution_count": 13,
   "id": "06422816",
   "metadata": {},
   "outputs": [
    {
     "name": "stdout",
     "output_type": "stream",
     "text": [
      "Unique values: [0 1 2 3 4 5 6]\n",
      "Counts: [3540 3610 3601 3598 3512 3595 3606]\n"
     ]
    }
   ],
   "source": [
    "unique_values, counts = np.unique(y_train, return_counts=True)\n",
    "\n",
    "print(\"Unique values:\", unique_values)\n",
    "print(\"Counts:\", counts)"
   ]
  },
  {
   "cell_type": "code",
   "execution_count": 14,
   "id": "f11abc55",
   "metadata": {},
   "outputs": [],
   "source": [
    "import numpy as np\n",
    "\n",
    "x_train=np.array(x_train)\n",
    "x_test=np.array(x_test)\n",
    "x_unseen=np.array(x_unseen)\n",
    "\n",
    "x_train=(x_train.astype('float32'))/255.0\n",
    "x_test=(x_test.astype('float32'))/255.0\n",
    "x_unseen=(x_unseen.astype('float32'))/255.0"
   ]
  },
  {
   "cell_type": "code",
   "execution_count": 15,
   "id": "219e93b9",
   "metadata": {},
   "outputs": [],
   "source": [
    "from tensorflow import keras\n",
    "from keras.utils import np_utils\n",
    "\n",
    "y_train = np_utils.to_categorical(y_train)\n",
    "y_test = np_utils.to_categorical(y_test)"
   ]
  },
  {
   "cell_type": "code",
   "execution_count": 16,
   "id": "8f968433",
   "metadata": {},
   "outputs": [
    {
     "name": "stdout",
     "output_type": "stream",
     "text": [
      "(25062, 32, 32, 3)\n",
      "(12513, 32, 32, 3)\n",
      "(25062, 7)\n",
      "(12513, 7)\n"
     ]
    }
   ],
   "source": [
    "print(x_train.shape)\n",
    "print(x_test.shape)\n",
    "print(y_train.shape)\n",
    "print(y_test.shape)"
   ]
  },
  {
   "cell_type": "code",
   "execution_count": 54,
   "id": "3e51f738",
   "metadata": {},
   "outputs": [],
   "source": [
    "model = keras.Sequential()\n",
    "model.add(keras.layers.Conv2D(32, (3, 3), kernel_initializer='he_uniform',input_shape=x_train.shape[1:], padding='same'))\n",
    "model.add(keras.layers.Activation('relu'))\n",
    "model.add(keras.layers.BatchNormalization())\n",
    "model.add(keras.layers.Dropout(0.2))\n",
    "\n",
    "model.add(keras.layers.Conv2D(64, 3, activation='relu', padding='same'))\n",
    "model.add(keras.layers.MaxPooling2D(2))\n",
    "model.add(keras.layers.BatchNormalization())\n",
    "model.add(keras.layers.Dropout(0.2))\n",
    "\n",
    "model.add(keras.layers.Conv2D(64, 3, activation='relu', padding='same'))\n",
    "model.add(keras.layers.MaxPooling2D(2))\n",
    "model.add(keras.layers.BatchNormalization())\n",
    "model.add(keras.layers.Dropout(0.2))\n",
    "\n",
    "model.add(keras.layers.Conv2D(64, 3, activation='relu', padding='same'))\n",
    "model.add(keras.layers.BatchNormalization())\n",
    "model.add(keras.layers.Dropout(0.4))\n",
    "    \n",
    "model.add(keras.layers.Flatten())\n",
    "#model.add(keras.layers.Dropout(0.2))\n",
    "\n",
    "model.add(keras.layers.Dense(128, activation='relu',kernel_initializer='he_uniform'))\n",
    "model.add(keras.layers.BatchNormalization())\n",
    "model.add(keras.layers.Dropout(0.5))\n",
    "\n",
    "model.add(keras.layers.Dense(32, activation='relu'))\n",
    "model.add(keras.layers.BatchNormalization())\n",
    "model.add(keras.layers.Dropout(0.3))\n",
    "\n",
    "model.add(keras.layers.Dense(7, activation='softmax'))\n",
    "\n",
    "model.compile(loss='categorical_crossentropy', optimizer='adam', metrics=['accuracy'])"
   ]
  },
  {
   "cell_type": "code",
   "execution_count": 21,
   "id": "c2e9ee8f",
   "metadata": {},
   "outputs": [
    {
     "name": "stdout",
     "output_type": "stream",
     "text": [
      "Epoch 1/30\n",
      "784/784 [==============================] - 90s 113ms/step - loss: 1.9108 - accuracy: 0.2612 - val_loss: 1.6150 - val_accuracy: 0.3611\n",
      "Epoch 2/30\n",
      "784/784 [==============================] - 90s 114ms/step - loss: 1.5869 - accuracy: 0.3753 - val_loss: 1.5123 - val_accuracy: 0.4046\n",
      "Epoch 3/30\n",
      "784/784 [==============================] - 90s 115ms/step - loss: 1.4819 - accuracy: 0.4228 - val_loss: 1.3856 - val_accuracy: 0.4491\n",
      "Epoch 4/30\n",
      "784/784 [==============================] - 91s 116ms/step - loss: 1.4167 - accuracy: 0.4505 - val_loss: 1.2965 - val_accuracy: 0.4985\n",
      "Epoch 5/30\n",
      "784/784 [==============================] - 89s 114ms/step - loss: 1.3620 - accuracy: 0.4733 - val_loss: 1.2566 - val_accuracy: 0.5099\n",
      "Epoch 6/30\n",
      "784/784 [==============================] - 89s 113ms/step - loss: 1.3170 - accuracy: 0.4940 - val_loss: 1.2148 - val_accuracy: 0.5318\n",
      "Epoch 7/30\n",
      "784/784 [==============================] - 89s 113ms/step - loss: 1.2757 - accuracy: 0.5144 - val_loss: 1.2418 - val_accuracy: 0.5155\n",
      "Epoch 8/30\n",
      "784/784 [==============================] - 90s 114ms/step - loss: 1.2456 - accuracy: 0.5236 - val_loss: 1.1531 - val_accuracy: 0.5540\n",
      "Epoch 9/30\n",
      "784/784 [==============================] - 90s 114ms/step - loss: 1.2156 - accuracy: 0.5389 - val_loss: 1.2473 - val_accuracy: 0.5179\n",
      "Epoch 10/30\n",
      "784/784 [==============================] - 89s 114ms/step - loss: 1.1868 - accuracy: 0.5557 - val_loss: 1.1658 - val_accuracy: 0.5557\n",
      "Epoch 11/30\n",
      "784/784 [==============================] - 89s 113ms/step - loss: 1.1648 - accuracy: 0.5562 - val_loss: 1.0818 - val_accuracy: 0.5878\n",
      "Epoch 12/30\n",
      "784/784 [==============================] - 88s 113ms/step - loss: 1.1375 - accuracy: 0.5698 - val_loss: 1.1153 - val_accuracy: 0.5705\n",
      "Epoch 13/30\n",
      "784/784 [==============================] - 88s 113ms/step - loss: 1.1229 - accuracy: 0.5751 - val_loss: 1.1285 - val_accuracy: 0.5759\n",
      "Epoch 14/30\n",
      "784/784 [==============================] - 92s 117ms/step - loss: 1.1009 - accuracy: 0.5873 - val_loss: 1.0968 - val_accuracy: 0.5809\n",
      "Epoch 15/30\n",
      "784/784 [==============================] - 89s 113ms/step - loss: 1.0748 - accuracy: 0.5982 - val_loss: 1.0106 - val_accuracy: 0.6197\n",
      "Epoch 16/30\n",
      "784/784 [==============================] - 88s 112ms/step - loss: 1.0680 - accuracy: 0.6005 - val_loss: 1.0605 - val_accuracy: 0.5943\n",
      "Epoch 17/30\n",
      "784/784 [==============================] - 89s 114ms/step - loss: 1.0499 - accuracy: 0.6108 - val_loss: 1.1042 - val_accuracy: 0.5761\n",
      "Epoch 18/30\n",
      "784/784 [==============================] - 89s 114ms/step - loss: 1.0302 - accuracy: 0.6153 - val_loss: 1.0072 - val_accuracy: 0.6191\n",
      "Epoch 19/30\n",
      "784/784 [==============================] - 89s 114ms/step - loss: 1.0216 - accuracy: 0.6207 - val_loss: 0.9682 - val_accuracy: 0.6321\n",
      "Epoch 20/30\n",
      "784/784 [==============================] - 89s 114ms/step - loss: 1.0081 - accuracy: 0.6254 - val_loss: 0.9702 - val_accuracy: 0.6299\n",
      "Epoch 21/30\n",
      "784/784 [==============================] - 89s 114ms/step - loss: 0.9918 - accuracy: 0.6283 - val_loss: 1.0087 - val_accuracy: 0.6159\n",
      "Epoch 22/30\n",
      "784/784 [==============================] - 89s 114ms/step - loss: 0.9842 - accuracy: 0.6327 - val_loss: 1.1013 - val_accuracy: 0.5830\n",
      "Epoch 23/30\n",
      "784/784 [==============================] - 88s 112ms/step - loss: 0.9710 - accuracy: 0.6357 - val_loss: 1.0130 - val_accuracy: 0.6150\n",
      "Epoch 24/30\n",
      "784/784 [==============================] - 89s 113ms/step - loss: 0.9579 - accuracy: 0.6430 - val_loss: 0.9551 - val_accuracy: 0.6391\n",
      "Epoch 25/30\n",
      "784/784 [==============================] - 88s 112ms/step - loss: 0.9524 - accuracy: 0.6438 - val_loss: 0.9630 - val_accuracy: 0.6359\n",
      "Epoch 26/30\n",
      "784/784 [==============================] - 88s 112ms/step - loss: 0.9438 - accuracy: 0.6491 - val_loss: 1.0050 - val_accuracy: 0.6156\n",
      "Epoch 27/30\n",
      "784/784 [==============================] - 88s 113ms/step - loss: 0.9436 - accuracy: 0.6486 - val_loss: 0.9121 - val_accuracy: 0.6560\n",
      "Epoch 28/30\n",
      "784/784 [==============================] - 88s 113ms/step - loss: 0.9265 - accuracy: 0.6545 - val_loss: 0.9765 - val_accuracy: 0.6332\n",
      "Epoch 29/30\n",
      "784/784 [==============================] - 88s 112ms/step - loss: 0.9241 - accuracy: 0.6580 - val_loss: 1.1639 - val_accuracy: 0.5914\n",
      "Epoch 30/30\n",
      "784/784 [==============================] - 89s 113ms/step - loss: 0.9192 - accuracy: 0.6600 - val_loss: 0.9916 - val_accuracy: 0.6261\n"
     ]
    }
   ],
   "source": [
    "import numpy\n",
    "seed=21\n",
    "numpy.random.seed(seed)\n",
    "h1= model.fit(x_train, y_train, validation_data=(x_test, y_test), epochs=30, batch_size=32)"
   ]
  },
  {
   "cell_type": "code",
   "execution_count": 22,
   "id": "6232eb6e",
   "metadata": {},
   "outputs": [
    {
     "data": {
      "image/png": "[encoded data removed]",
      "text/plain": [
       "<Figure size 640x480 with 1 Axes>"
      ]
     },
     "metadata": {},
     "output_type": "display_data"
    }
   ],
   "source": [
    "import pandas as pd\n",
    "import matplotlib.pyplot as plt\n",
    "\n",
    "pd.DataFrame(h1.history).plot()\n",
    "plt.show()"
   ]
  },
  {
   "cell_type": "code",
   "execution_count": 26,
   "id": "c7c174e2",
   "metadata": {},
   "outputs": [
    {
     "name": "stdout",
     "output_type": "stream",
     "text": [
      "180/180 [==============================] - 4s 20ms/step\n"
     ]
    }
   ],
   "source": [
    "prob= model.predict(x_unseen)"
   ]
  },
  {
   "cell_type": "code",
   "execution_count": 37,
   "id": "6b57f08d",
   "metadata": {},
   "outputs": [],
   "source": [
    "pre_label = np.argmax(prob,axis=1)\n"
   ]
  },
  {
   "cell_type": "code",
   "execution_count": 39,
   "id": "abb6c51d",
   "metadata": {},
   "outputs": [
    {
     "name": "stdout",
     "output_type": "stream",
     "text": [
      "['Image_test_00001.jpg', 'Image_test_00002.jpg', 'Image_test_00003.jpg', 'Image_test_00004.jpg', 'Image_test_00005.jpg']\n"
     ]
    }
   ],
   "source": [
    "import os\n",
    "import glob\n",
    "\n",
    "img_dir = r\"C:\\Users\\hp\\ImgClass_Fashion\\image-classification-pants\\test\"  \n",
    "extensions = ['*.jpg', '*.jpeg', '*.png']  \n",
    "\n",
    "image_files = []\n",
    "for extension in extensions:\n",
    "    image_files.extend(glob.glob(os.path.join(img_dir, extension)))\n",
    "\n",
    "image_files = [os.path.basename(f) for f in image_files]\n",
    "\n",
    "print(image_files[:5])"
   ]
  },
  {
   "cell_type": "code",
   "execution_count": 42,
   "id": "07c3fa10",
   "metadata": {},
   "outputs": [],
   "source": [
    "import csv\n",
    "with open('TestImage_labels.csv', 'w', newline='') as file:\n",
    "    writer = csv.writer(file)\n",
    "    writer.writerow(['file_name', 'label'])\n",
    "    for i in range(len(image_files)):\n",
    "        writer.writerow([image_files[i], pre_label[i]])"
   ]
  },
  {
   "cell_type": "code",
   "execution_count": 55,
   "id": "949921e4",
   "metadata": {
    "scrolled": true
   },
   "outputs": [
    {
     "name": "stdout",
     "output_type": "stream",
     "text": [
      "Epoch 1/25\n",
      "784/784 [==============================] - 101s 117ms/step - loss: 1.9250 - accuracy: 0.2623 - val_loss: 1.6644 - val_accuracy: 0.3189\n",
      "Epoch 2/25\n",
      "784/784 [==============================] - 90s 115ms/step - loss: 1.5928 - accuracy: 0.3642 - val_loss: 1.4671 - val_accuracy: 0.4264\n",
      "Epoch 3/25\n",
      "784/784 [==============================] - 102s 130ms/step - loss: 1.4959 - accuracy: 0.4137 - val_loss: 1.4035 - val_accuracy: 0.4491\n",
      "Epoch 4/25\n",
      "784/784 [==============================] - 95s 122ms/step - loss: 1.4286 - accuracy: 0.4429 - val_loss: 1.3054 - val_accuracy: 0.4981\n",
      "Epoch 5/25\n",
      "784/784 [==============================] - 91s 116ms/step - loss: 1.3693 - accuracy: 0.4710 - val_loss: 1.2650 - val_accuracy: 0.5040\n",
      "Epoch 6/25\n",
      "784/784 [==============================] - 94s 120ms/step - loss: 1.3230 - accuracy: 0.4906 - val_loss: 1.2115 - val_accuracy: 0.5334\n",
      "Epoch 7/25\n",
      "784/784 [==============================] - 107s 137ms/step - loss: 1.2831 - accuracy: 0.5114 - val_loss: 1.2266 - val_accuracy: 0.5265\n",
      "Epoch 8/25\n",
      "784/784 [==============================] - 100s 127ms/step - loss: 1.2513 - accuracy: 0.5244 - val_loss: 1.1639 - val_accuracy: 0.5550\n",
      "Epoch 9/25\n",
      "784/784 [==============================] - 104s 133ms/step - loss: 1.2255 - accuracy: 0.5336 - val_loss: 1.1744 - val_accuracy: 0.5446\n",
      "Epoch 10/25\n",
      "784/784 [==============================] - 101s 129ms/step - loss: 1.1836 - accuracy: 0.5535 - val_loss: 1.1204 - val_accuracy: 0.5731\n",
      "Epoch 11/25\n",
      "784/784 [==============================] - 97s 124ms/step - loss: 1.1681 - accuracy: 0.5577 - val_loss: 1.0806 - val_accuracy: 0.5848\n",
      "Epoch 12/25\n",
      "784/784 [==============================] - 96s 123ms/step - loss: 1.1389 - accuracy: 0.5739 - val_loss: 1.0884 - val_accuracy: 0.5812\n",
      "Epoch 13/25\n",
      "784/784 [==============================] - 97s 123ms/step - loss: 1.1164 - accuracy: 0.5779 - val_loss: 1.1120 - val_accuracy: 0.5725\n",
      "Epoch 14/25\n",
      "784/784 [==============================] - 96s 123ms/step - loss: 1.0988 - accuracy: 0.5846 - val_loss: 1.1327 - val_accuracy: 0.5599\n",
      "Epoch 15/25\n",
      "784/784 [==============================] - 96s 122ms/step - loss: 1.0797 - accuracy: 0.5953 - val_loss: 1.0971 - val_accuracy: 0.5840\n",
      "Epoch 16/25\n",
      "784/784 [==============================] - 95s 121ms/step - loss: 1.0639 - accuracy: 0.6022 - val_loss: 1.0390 - val_accuracy: 0.6012\n",
      "Epoch 17/25\n",
      "784/784 [==============================] - 91s 116ms/step - loss: 1.0537 - accuracy: 0.6086 - val_loss: 1.0378 - val_accuracy: 0.6013\n",
      "Epoch 18/25\n",
      "784/784 [==============================] - 91s 116ms/step - loss: 1.0289 - accuracy: 0.6116 - val_loss: 0.9812 - val_accuracy: 0.6262\n",
      "Epoch 19/25\n",
      "784/784 [==============================] - 91s 115ms/step - loss: 1.0145 - accuracy: 0.6231 - val_loss: 1.0802 - val_accuracy: 0.5871\n",
      "Epoch 20/25\n",
      "784/784 [==============================] - 90s 115ms/step - loss: 1.0097 - accuracy: 0.6219 - val_loss: 1.0078 - val_accuracy: 0.6158\n",
      "Epoch 21/25\n",
      "784/784 [==============================] - 90s 115ms/step - loss: 0.9970 - accuracy: 0.6257 - val_loss: 1.0773 - val_accuracy: 0.5953\n",
      "Epoch 22/25\n",
      "784/784 [==============================] - 91s 116ms/step - loss: 0.9786 - accuracy: 0.6342 - val_loss: 1.0874 - val_accuracy: 0.5840\n",
      "Epoch 23/25\n",
      "784/784 [==============================] - 95s 121ms/step - loss: 0.9762 - accuracy: 0.6379 - val_loss: 1.0736 - val_accuracy: 0.6019\n",
      "Epoch 24/25\n",
      "784/784 [==============================] - 106s 135ms/step - loss: 0.9593 - accuracy: 0.6421 - val_loss: 1.0306 - val_accuracy: 0.6071\n",
      "Epoch 25/25\n",
      "784/784 [==============================] - 102s 131ms/step - loss: 0.9545 - accuracy: 0.6401 - val_loss: 0.9829 - val_accuracy: 0.6269\n"
     ]
    }
   ],
   "source": [
    "import numpy\n",
    "seed=21\n",
    "numpy.random.seed(seed)\n",
    "h1= model.fit(x_train, y_train, validation_data=(x_test, y_test), epochs=25, batch_size=32)"
   ]
  },
  {
   "cell_type": "code",
   "execution_count": 56,
   "id": "e49e5f44",
   "metadata": {},
   "outputs": [
    {
     "data": {
      "image/png": "[encoded data removed]",
      "text/plain": [
       "<Figure size 640x480 with 1 Axes>"
      ]
     },
     "metadata": {},
     "output_type": "display_data"
    }
   ],
   "source": [
    "import pandas as pd\n",
    "import matplotlib.pyplot as plt\n",
    "\n",
    "pd.DataFrame(h1.history).plot()\n",
    "plt.show()"
   ]
  },
  {
   "cell_type": "code",
   "execution_count": 57,
   "id": "85b7f4ca",
   "metadata": {},
   "outputs": [
    {
     "name": "stdout",
     "output_type": "stream",
     "text": [
      "180/180 [==============================] - 4s 21ms/step\n"
     ]
    }
   ],
   "source": [
    "prob= model.predict(x_unseen)"
   ]
  },
  {
   "cell_type": "code",
   "execution_count": 58,
   "id": "9355293e",
   "metadata": {},
   "outputs": [],
   "source": [
    "pre_label = np.argmax(prob,axis=1)"
   ]
  },
  {
   "cell_type": "code",
   "execution_count": 59,
   "id": "91448840",
   "metadata": {},
   "outputs": [
    {
     "name": "stdout",
     "output_type": "stream",
     "text": [
      "['Image_test_00001.jpg', 'Image_test_00002.jpg', 'Image_test_00003.jpg', 'Image_test_00004.jpg', 'Image_test_00005.jpg']\n"
     ]
    }
   ],
   "source": [
    "import os\n",
    "import glob\n",
    "\n",
    "img_dir = r\"C:\\Users\\hp\\ImgClass_Fashion\\image-classification-pants\\test\"  \n",
    "extensions = ['*.jpg', '*.jpeg', '*.png']  \n",
    "\n",
    "image_files = []\n",
    "for extension in extensions:\n",
    "    image_files.extend(glob.glob(os.path.join(img_dir, extension)))\n",
    "\n",
    "# Extract just the file names without the path\n",
    "image_files = [os.path.basename(f) for f in image_files]\n",
    "\n",
    "print(image_files[:5])"
   ]
  },
  {
   "cell_type": "code",
   "execution_count": 60,
   "id": "c175496f",
   "metadata": {},
   "outputs": [
    {
     "data": {
      "text/plain": [
       "array([2, 4, 2, 1, 2], dtype=int64)"
      ]
     },
     "execution_count": 60,
     "metadata": {},
     "output_type": "execute_result"
    }
   ],
   "source": [
    "pre_label[:5]"
   ]
  },
  {
   "cell_type": "code",
   "execution_count": 61,
   "id": "c055bb74",
   "metadata": {},
   "outputs": [],
   "source": [
    "import csv\n",
    "with open('Results_Imagelabels.csv', 'w', newline='') as file:\n",
    "    writer = csv.writer(file)\n",
    "    writer.writerow(['file_name', 'label'])\n",
    "    for i in range(len(image_files)):\n",
    "        writer.writerow([image_files[i], pre_label[i]])"
   ]
  },
  {
   "cell_type": "code",
   "execution_count": null,
   "id": "f4625c35",
   "metadata": {},
   "outputs": [],
   "source": []
  }
 ],
 "metadata": {
  "kernelspec": {
   "display_name": "Python 3 (ipykernel)",
   "language": "python",
   "name": "python3"
  },
  "language_info": {
   "codemirror_mode": {
    "name": "ipython",
    "version": 3
   },
   "file_extension": ".py",
   "mimetype": "text/x-python",
   "name": "python",
   "nbconvert_exporter": "python",
   "pygments_lexer": "ipython3",
   "version": "3.9.13"
  }
 },
 "nbformat": 4,
 "nbformat_minor": 5
}
